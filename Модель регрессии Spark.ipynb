{
 "cells": [
  {
   "cell_type": "markdown",
   "metadata": {
    "id": "GEqQaHzsZ_bA"
   },
   "source": [
    "# Предсказание стоимости жилья\n",
    "\n",
    "В проекте вам нужно обучить модель линейной регрессии на данных о жилье в Калифорнии в 1990 году. На основе данных нужно предсказать медианную стоимость дома в жилом массиве. Обучите модель и сделайте предсказания на тестовой выборке. Для оценки качества модели используйте метрики RMSE, MAE и R2."
   ]
  },
  {
   "cell_type": "markdown",
   "metadata": {},
   "source": [
    "## Загрузка библиотек"
   ]
  },
  {
   "cell_type": "code",
   "execution_count": 1,
   "metadata": {},
   "outputs": [
    {
     "name": "stdout",
     "output_type": "stream",
     "text": [
      "CPU times: user 1.02 s, sys: 319 ms, total: 1.34 s\n",
      "Wall time: 17.3 s\n"
     ]
    }
   ],
   "source": [
    "%%time\n",
    "%%capture\n",
    "\n",
    "import numpy as np \n",
    "import pandas as pd\n",
    "import gc\n",
    "# Сброс ограничений на количество выводимых рядов\n",
    "pd.set_option('display.max_rows', 2)\n",
    " # Сброс ограничений на число столбцов\n",
    "pd.set_option('display.max_columns', None)\n",
    " # Сброс ограничений на количество символов в записи\n",
    "# pd.set_option('display.max_colwidth', None)\n",
    "# При записи изменённых признаков в исходный датафрейм код может вызывать предупреждение SettingWithCopy.\n",
    "# Причина в особенности поведения sklearn и pandas. \n",
    "# Чтобы предупреждение не появлялось, в код добавляют строчку:\n",
    "pd.options.mode.chained_assignment = None\n",
    "\n",
    "import matplotlib.pyplot as plt\n",
    "%matplotlib inline\n",
    "import math\n",
    "from math import factorial, exp\n",
    "from scipy import stats as st\n",
    "import seaborn as sns\n",
    "import warnings\n",
    "\n",
    "from scipy.stats import binom #помогает получить вероятности биномиального распределения\n",
    "from scipy.stats import poisson #значения функции распределения для распределения Пуассона\n",
    "\n",
    "from ipywidgets import IntProgress\n",
    "from IPython.display import display\n",
    "import time\n",
    "import datetime\n",
    "# Помогаторные функции\n",
    "def кп(текст): #красный подчеркнутый\n",
    "    return f\"\\033[31m\\033[4m{текст}\\033[0m\"\n",
    "def сп(текст): #синий подчеркнутый\n",
    "    return f\"\\033[34m\\033[4m{текст}\\033[0m\"\n",
    "def з(текст): #синий подчеркнутый\n",
    "    return f\"\\033[32m{текст}\\033[0m\"\n",
    "pd.set_option('display.float_format', '{:.2f}'.format)\n",
    "def print_df(df):\n",
    "    pd.set_option('display.max_rows', None)\n",
    "    display(df)\n",
    "    pd.set_option('display.max_rows', 2)\n",
    "    \n",
    "    \n",
    "def t():\n",
    "    return datetime.datetime.now()\n",
    "\n",
    "import random\n",
    "def цвет():\n",
    "    return f'rgb({random.randrange(255)},{random.randrange(255)},{random.randrange(255)})'\n",
    "\n",
    "def info_df(df):\n",
    "    print(f'запуск проверки {сп(t())}, на моент запуска {сп(len(df))} строк')\n",
    "    дубликатов = df.duplicated().sum()\n",
    "    if дубликатов >= 1:\n",
    "        print(кп('Найдены дубликаты:'))\n",
    "        print(df.value_counts())\n",
    "        print(f'Нужно удалить {кп(дубликатов)} дублей')\n",
    "    строк = df.reset_index()['index'].count()\n",
    "    print(з(df.info()))\n",
    "    display(df.describe())    \n",
    "    if строк>3:\n",
    "        display(df.sample(3))\n",
    "    else:\n",
    "        print(f\"Набор данных содержит {кп(строк)} строк. Вывожу весь набор данных\")\n",
    "        display(df.sample(строк))\n",
    "\n",
    "def f1():\n",
    "    print(f'''\n",
    "{сп('1. Функции вызова')}\n",
    "    1.1 {з('print_df(df)')} - выводит набор данных полностью\n",
    "    1.5 {з('t()')} - выводит текущую дату и время\n",
    "    1.6 {з('цвет()')} - выводит цветовую палитру, пример rgb(7,40,89)\n",
    "{сп('2. Визуализация данных')}\n",
    "    2.1 {з('info_df(df):')} - выводит информацию о данных (.info()), проверяет наличие дублей (.duplicated().sum()), если они есть, то предупреждает о них, описывает числительные данные (.describe()).\n",
    "    2.2 {з('диаграмма(df, target, col, x, name):')} - выводит диаграмму, target - значение по оси ординат, x - значение по оси абсцисс, col - поле содержащее информацию о легенде, name -наименование графика.\n",
    "    2.3 {з('boxplot(df, target, col, name):')} - выводит boxplot, target - значение по оси ординат, x - значение по оси абсцисс, col - поле содержащее информацию о легенде, name -наименование графика.\n",
    "    2.4 {з('линия(df, target, x, name='', legend=0, col=''):')} - выводит линейный график, target - значение по оси ординат, x - значение по оси абсцисс, col - поле содержащее информацию о легенде, name -наименование графика. legend=0 означает, что легенда на графике не нужна, а значит не нужно указывать параметр col\n",
    "    2.5 {з('гистограмма(df, target, col, name):')} - выводит гистограмму, target - значение по оси ординат, x - значение по оси абсцисс, col - поле содержащее информацию о легенде, name -наименование графика.\n",
    "    2.6 {з('кп(текст)')} - цвет красный подчеркнутый\n",
    "    2.7 {з('сп(текст)')} - цвет синий подчеркнутый\n",
    "    2.8 {з('з(текст)')} - цвет зеленый\n",
    "    ''')\n",
    "# библиотеки PySpark\n",
    "\n",
    "import pyspark\n",
    "from pyspark.sql import SparkSession\n",
    "import pyspark.sql.types as pst\n",
    "import pyspark.sql.functions as psf\n",
    "from pyspark.sql.functions import col, lit\n",
    "\n",
    "spark = (\n",
    "    SparkSession.builder \n",
    "    .master(\"local\") \n",
    "    .appName(\"Sample Regression\") \n",
    "    .getOrCreate()\n",
    ")\n",
    "\n",
    "\n",
    "from pyspark.ml.feature import StringIndexer, VectorAssembler, StandardScaler\n",
    "# from pyspark.ml.classification import LogisticRegression\n",
    "#Модели\n",
    "from pyspark.ml.regression import LinearRegression\n",
    "# Оценка качества\n",
    "from pyspark.ml.evaluation import BinaryClassificationEvaluator, MulticlassClassificationEvaluator\n",
    "# Метрики регрессии\n",
    "from pyspark.mllib.evaluation import RegressionMetrics\n",
    "\n",
    "from pyspark.mllib.recommendation import ALS, Rating\n",
    "\n",
    "pyspark_version = pyspark.__version__\n",
    "if int(pyspark_version[:1]) == 3:\n",
    "    from pyspark.ml.feature import OneHotEncoder    \n",
    "elif int(pyspark_version[:1]) == 2:\n",
    "    from pyspark.ml.feature import OneHotEncodeEstimator\n",
    "\n",
    "print(f'spark session id: {spark.sparkContext.applicationId}')\n",
    "\n",
    "\n",
    "\n",
    "\n",
    "\n",
    "\n",
    "def зкште(trt):\n",
    "    return print(trt)"
   ]
  },
  {
   "cell_type": "code",
   "execution_count": 2,
   "metadata": {},
   "outputs": [
    {
     "name": "stdout",
     "output_type": "stream",
     "text": [
      "spark session id: local-1707544729981\n"
     ]
    }
   ],
   "source": [
    "print(f'spark session id: {spark.sparkContext.applicationId}')"
   ]
  },
  {
   "cell_type": "markdown",
   "metadata": {
    "id": "53871372"
   },
   "source": [
    "## Подготовка данных"
   ]
  },
  {
   "cell_type": "code",
   "execution_count": 3,
   "metadata": {},
   "outputs": [],
   "source": [
    "start_df_info = {'longitude':'широта'\n",
    ", 'latitude':'долгота'\n",
    ", 'housing_median_age':'медианный возраст жителей жилого массива'\n",
    ", 'total_rooms':'общее количество комнат в домах жилого массива'\n",
    ", 'total_bedrooms':'общее количество спален в домах жилого массива'\n",
    ", 'population':'количество человек, которые проживают в жилом массиве'\n",
    ", 'households':'количество домовладений в жилом массиве'\n",
    ", 'median_income':'медианный доход жителей жилого массива'\n",
    ", 'median_house_value':'медианная стоимость дома в жилом массиве'\n",
    ", 'ocean_proximity':'близость к океану'}"
   ]
  },
  {
   "cell_type": "markdown",
   "metadata": {},
   "source": [
    "### Прочитайте содержимое файла /datasets/housing.csv."
   ]
  },
  {
   "cell_type": "code",
   "execution_count": 4,
   "metadata": {
    "id": "df92e3ec"
   },
   "outputs": [
    {
     "name": "stderr",
     "output_type": "stream",
     "text": [
      "                                                                                \r"
     ]
    },
    {
     "data": {
      "text/html": [
       "<div>\n",
       "<style scoped>\n",
       "    .dataframe tbody tr th:only-of-type {\n",
       "        vertical-align: middle;\n",
       "    }\n",
       "\n",
       "    .dataframe tbody tr th {\n",
       "        vertical-align: top;\n",
       "    }\n",
       "\n",
       "    .dataframe thead th {\n",
       "        text-align: right;\n",
       "    }\n",
       "</style>\n",
       "<table border=\"1\" class=\"dataframe\">\n",
       "  <thead>\n",
       "    <tr style=\"text-align: right;\">\n",
       "      <th></th>\n",
       "      <th>longitude</th>\n",
       "      <th>latitude</th>\n",
       "      <th>housing_median_age</th>\n",
       "      <th>total_rooms</th>\n",
       "      <th>total_bedrooms</th>\n",
       "      <th>population</th>\n",
       "      <th>households</th>\n",
       "      <th>median_income</th>\n",
       "      <th>median_house_value</th>\n",
       "      <th>ocean_proximity</th>\n",
       "    </tr>\n",
       "  </thead>\n",
       "  <tbody>\n",
       "    <tr>\n",
       "      <th>0</th>\n",
       "      <td>-122.23</td>\n",
       "      <td>37.88</td>\n",
       "      <td>41.00</td>\n",
       "      <td>880.00</td>\n",
       "      <td>129.00</td>\n",
       "      <td>322.00</td>\n",
       "      <td>126.00</td>\n",
       "      <td>8.33</td>\n",
       "      <td>452600.00</td>\n",
       "      <td>NEAR BAY</td>\n",
       "    </tr>\n",
       "    <tr>\n",
       "      <th>...</th>\n",
       "      <td>...</td>\n",
       "      <td>...</td>\n",
       "      <td>...</td>\n",
       "      <td>...</td>\n",
       "      <td>...</td>\n",
       "      <td>...</td>\n",
       "      <td>...</td>\n",
       "      <td>...</td>\n",
       "      <td>...</td>\n",
       "      <td>...</td>\n",
       "    </tr>\n",
       "    <tr>\n",
       "      <th>2</th>\n",
       "      <td>-122.24</td>\n",
       "      <td>37.85</td>\n",
       "      <td>52.00</td>\n",
       "      <td>1467.00</td>\n",
       "      <td>190.00</td>\n",
       "      <td>496.00</td>\n",
       "      <td>177.00</td>\n",
       "      <td>7.26</td>\n",
       "      <td>352100.00</td>\n",
       "      <td>NEAR BAY</td>\n",
       "    </tr>\n",
       "  </tbody>\n",
       "</table>\n",
       "<p>3 rows × 10 columns</p>\n",
       "</div>"
      ],
      "text/plain": [
       "    longitude  latitude  housing_median_age  total_rooms  total_bedrooms  \\\n",
       "0     -122.23     37.88               41.00       880.00          129.00   \n",
       "..        ...       ...                 ...          ...             ...   \n",
       "2     -122.24     37.85               52.00      1467.00          190.00   \n",
       "\n",
       "    population  households  median_income  median_house_value ocean_proximity  \n",
       "0       322.00      126.00           8.33           452600.00        NEAR BAY  \n",
       "..         ...         ...            ...                 ...             ...  \n",
       "2       496.00      177.00           7.26           352100.00        NEAR BAY  \n",
       "\n",
       "[3 rows x 10 columns]"
      ]
     },
     "execution_count": 4,
     "metadata": {},
     "output_type": "execute_result"
    }
   ],
   "source": [
    "start_df = spark.read.option('header', 'true').csv('/datasets/housing.csv', inferSchema = True)\n",
    "start_df.limit(3).toPandas()"
   ]
  },
  {
   "cell_type": "markdown",
   "metadata": {},
   "source": [
    "### Выведите типы данных колонок датасета. Используйте методы pySpark."
   ]
  },
  {
   "cell_type": "code",
   "execution_count": 5,
   "metadata": {
    "scrolled": true
   },
   "outputs": [
    {
     "name": "stdout",
     "output_type": "stream",
     "text": [
      "root\n",
      " |-- longitude: double (nullable = true)\n",
      " |-- latitude: double (nullable = true)\n",
      " |-- housing_median_age: double (nullable = true)\n",
      " |-- total_rooms: double (nullable = true)\n",
      " |-- total_bedrooms: double (nullable = true)\n",
      " |-- population: double (nullable = true)\n",
      " |-- households: double (nullable = true)\n",
      " |-- median_income: double (nullable = true)\n",
      " |-- median_house_value: double (nullable = true)\n",
      " |-- ocean_proximity: string (nullable = true)\n",
      "\n"
     ]
    }
   ],
   "source": [
    "start_df.printSchema()"
   ]
  },
  {
   "cell_type": "code",
   "execution_count": 6,
   "metadata": {},
   "outputs": [],
   "source": [
    "# for i in start_df.limit(1).toPandas().columns:\n",
    "#     print(\", '\"+i+\"'\")"
   ]
  },
  {
   "cell_type": "code",
   "execution_count": 7,
   "metadata": {},
   "outputs": [],
   "source": [
    "#Разделяю колонки на два типа: числовые и текстовые, которые представляют категориальные данные.\n",
    "categorical_cols = ['ocean_proximity']\n",
    "numerical_cols  = [\n",
    "    'longitude'\n",
    ", 'latitude'\n",
    ", 'housing_median_age'\n",
    ", 'total_rooms'\n",
    ", 'total_bedrooms'\n",
    ", 'population'\n",
    ", 'households'\n",
    ", 'median_income'\n",
    "# , 'median_house_value'\n",
    "]\n",
    "\n",
    "target = \"median_house_value\""
   ]
  },
  {
   "cell_type": "markdown",
   "metadata": {},
   "source": [
    "### Выполните предобработку данных:"
   ]
  },
  {
   "cell_type": "markdown",
   "metadata": {},
   "source": [
    "#### Исследуйте данные на наличие пропусков и заполните их, выбрав значения по своему усмотрению"
   ]
  },
  {
   "cell_type": "code",
   "execution_count": 8,
   "metadata": {},
   "outputs": [
    {
     "name": "stderr",
     "output_type": "stream",
     "text": [
      "                                                                                \r"
     ]
    },
    {
     "data": {
      "text/html": [
       "<div>\n",
       "<style scoped>\n",
       "    .dataframe tbody tr th:only-of-type {\n",
       "        vertical-align: middle;\n",
       "    }\n",
       "\n",
       "    .dataframe tbody tr th {\n",
       "        vertical-align: top;\n",
       "    }\n",
       "\n",
       "    .dataframe thead th {\n",
       "        text-align: right;\n",
       "    }\n",
       "</style>\n",
       "<table border=\"1\" class=\"dataframe\">\n",
       "  <thead>\n",
       "    <tr style=\"text-align: right;\">\n",
       "      <th></th>\n",
       "      <th>summary</th>\n",
       "      <th>longitude</th>\n",
       "      <th>latitude</th>\n",
       "      <th>housing_median_age</th>\n",
       "      <th>total_rooms</th>\n",
       "      <th>total_bedrooms</th>\n",
       "      <th>population</th>\n",
       "      <th>households</th>\n",
       "      <th>median_income</th>\n",
       "      <th>median_house_value</th>\n",
       "      <th>ocean_proximity</th>\n",
       "    </tr>\n",
       "  </thead>\n",
       "  <tbody>\n",
       "    <tr>\n",
       "      <th>0</th>\n",
       "      <td>count</td>\n",
       "      <td>20640</td>\n",
       "      <td>20640</td>\n",
       "      <td>20640</td>\n",
       "      <td>20640</td>\n",
       "      <td>20433</td>\n",
       "      <td>20640</td>\n",
       "      <td>20640</td>\n",
       "      <td>20640</td>\n",
       "      <td>20640</td>\n",
       "      <td>20640</td>\n",
       "    </tr>\n",
       "    <tr>\n",
       "      <th>1</th>\n",
       "      <td>mean</td>\n",
       "      <td>-119.56970445736148</td>\n",
       "      <td>35.6318614341087</td>\n",
       "      <td>28.639486434108527</td>\n",
       "      <td>2635.7630813953488</td>\n",
       "      <td>537.8705525375618</td>\n",
       "      <td>1425.4767441860465</td>\n",
       "      <td>499.5396802325581</td>\n",
       "      <td>3.8706710029070246</td>\n",
       "      <td>206855.81690891474</td>\n",
       "      <td>None</td>\n",
       "    </tr>\n",
       "    <tr>\n",
       "      <th>2</th>\n",
       "      <td>stddev</td>\n",
       "      <td>2.003531723502584</td>\n",
       "      <td>2.135952397457101</td>\n",
       "      <td>12.58555761211163</td>\n",
       "      <td>2181.6152515827944</td>\n",
       "      <td>421.38507007403115</td>\n",
       "      <td>1132.46212176534</td>\n",
       "      <td>382.3297528316098</td>\n",
       "      <td>1.899821717945263</td>\n",
       "      <td>115395.61587441359</td>\n",
       "      <td>None</td>\n",
       "    </tr>\n",
       "    <tr>\n",
       "      <th>3</th>\n",
       "      <td>min</td>\n",
       "      <td>-124.35</td>\n",
       "      <td>32.54</td>\n",
       "      <td>1.0</td>\n",
       "      <td>2.0</td>\n",
       "      <td>1.0</td>\n",
       "      <td>3.0</td>\n",
       "      <td>1.0</td>\n",
       "      <td>0.4999</td>\n",
       "      <td>14999.0</td>\n",
       "      <td>&lt;1H OCEAN</td>\n",
       "    </tr>\n",
       "    <tr>\n",
       "      <th>4</th>\n",
       "      <td>max</td>\n",
       "      <td>-114.31</td>\n",
       "      <td>41.95</td>\n",
       "      <td>52.0</td>\n",
       "      <td>39320.0</td>\n",
       "      <td>6445.0</td>\n",
       "      <td>35682.0</td>\n",
       "      <td>6082.0</td>\n",
       "      <td>15.0001</td>\n",
       "      <td>500001.0</td>\n",
       "      <td>NEAR OCEAN</td>\n",
       "    </tr>\n",
       "  </tbody>\n",
       "</table>\n",
       "</div>"
      ],
      "text/plain": [
       "  summary            longitude           latitude  housing_median_age  \\\n",
       "0   count                20640              20640               20640   \n",
       "1    mean  -119.56970445736148   35.6318614341087  28.639486434108527   \n",
       "2  stddev    2.003531723502584  2.135952397457101   12.58555761211163   \n",
       "3     min              -124.35              32.54                 1.0   \n",
       "4     max              -114.31              41.95                52.0   \n",
       "\n",
       "          total_rooms      total_bedrooms          population  \\\n",
       "0               20640               20433               20640   \n",
       "1  2635.7630813953488   537.8705525375618  1425.4767441860465   \n",
       "2  2181.6152515827944  421.38507007403115    1132.46212176534   \n",
       "3                 2.0                 1.0                 3.0   \n",
       "4             39320.0              6445.0             35682.0   \n",
       "\n",
       "          households       median_income  median_house_value ocean_proximity  \n",
       "0              20640               20640               20640           20640  \n",
       "1  499.5396802325581  3.8706710029070246  206855.81690891474            None  \n",
       "2  382.3297528316098   1.899821717945263  115395.61587441359            None  \n",
       "3                1.0              0.4999             14999.0       <1H OCEAN  \n",
       "4             6082.0             15.0001            500001.0      NEAR OCEAN  "
      ]
     },
     "metadata": {},
     "output_type": "display_data"
    }
   ],
   "source": [
    "print_df(start_df.describe().toPandas())"
   ]
  },
  {
   "cell_type": "code",
   "execution_count": 9,
   "metadata": {},
   "outputs": [
    {
     "name": "stderr",
     "output_type": "stream",
     "text": [
      "                                                                                \r"
     ]
    },
    {
     "data": {
      "text/html": [
       "<div>\n",
       "<style scoped>\n",
       "    .dataframe tbody tr th:only-of-type {\n",
       "        vertical-align: middle;\n",
       "    }\n",
       "\n",
       "    .dataframe tbody tr th {\n",
       "        vertical-align: top;\n",
       "    }\n",
       "\n",
       "    .dataframe thead th {\n",
       "        text-align: right;\n",
       "    }\n",
       "</style>\n",
       "<table border=\"1\" class=\"dataframe\">\n",
       "  <thead>\n",
       "    <tr style=\"text-align: right;\">\n",
       "      <th></th>\n",
       "      <th>summary</th>\n",
       "      <th>longitude</th>\n",
       "      <th>latitude</th>\n",
       "      <th>housing_median_age</th>\n",
       "      <th>total_rooms</th>\n",
       "      <th>total_bedrooms</th>\n",
       "      <th>population</th>\n",
       "      <th>households</th>\n",
       "      <th>median_income</th>\n",
       "      <th>median_house_value</th>\n",
       "      <th>ocean_proximity</th>\n",
       "    </tr>\n",
       "  </thead>\n",
       "  <tbody>\n",
       "    <tr>\n",
       "      <th>0</th>\n",
       "      <td>count</td>\n",
       "      <td>20433</td>\n",
       "      <td>20433</td>\n",
       "      <td>20433</td>\n",
       "      <td>20433</td>\n",
       "      <td>20433</td>\n",
       "      <td>20433</td>\n",
       "      <td>20433</td>\n",
       "      <td>20433</td>\n",
       "      <td>20433</td>\n",
       "      <td>20433</td>\n",
       "    </tr>\n",
       "    <tr>\n",
       "      <th>1</th>\n",
       "      <td>mean</td>\n",
       "      <td>-119.57068859198068</td>\n",
       "      <td>35.63322125972706</td>\n",
       "      <td>28.633093525179856</td>\n",
       "      <td>2636.5042333480155</td>\n",
       "      <td>537.8705525375618</td>\n",
       "      <td>1424.9469485635982</td>\n",
       "      <td>499.43346547251997</td>\n",
       "      <td>3.8711616013312273</td>\n",
       "      <td>206864.41315519012</td>\n",
       "      <td>None</td>\n",
       "    </tr>\n",
       "    <tr>\n",
       "      <th>2</th>\n",
       "      <td>stddev</td>\n",
       "      <td>2.003577890751096</td>\n",
       "      <td>2.1363476663779872</td>\n",
       "      <td>12.591805202182835</td>\n",
       "      <td>2185.269566977601</td>\n",
       "      <td>421.38507007403115</td>\n",
       "      <td>1133.2084897449597</td>\n",
       "      <td>382.2992258828481</td>\n",
       "      <td>1.899291249306247</td>\n",
       "      <td>115435.66709858322</td>\n",
       "      <td>None</td>\n",
       "    </tr>\n",
       "    <tr>\n",
       "      <th>3</th>\n",
       "      <td>min</td>\n",
       "      <td>-124.35</td>\n",
       "      <td>32.54</td>\n",
       "      <td>1.0</td>\n",
       "      <td>2.0</td>\n",
       "      <td>1.0</td>\n",
       "      <td>3.0</td>\n",
       "      <td>1.0</td>\n",
       "      <td>0.4999</td>\n",
       "      <td>14999.0</td>\n",
       "      <td>&lt;1H OCEAN</td>\n",
       "    </tr>\n",
       "    <tr>\n",
       "      <th>4</th>\n",
       "      <td>max</td>\n",
       "      <td>-114.31</td>\n",
       "      <td>41.95</td>\n",
       "      <td>52.0</td>\n",
       "      <td>39320.0</td>\n",
       "      <td>6445.0</td>\n",
       "      <td>35682.0</td>\n",
       "      <td>6082.0</td>\n",
       "      <td>15.0001</td>\n",
       "      <td>500001.0</td>\n",
       "      <td>NEAR OCEAN</td>\n",
       "    </tr>\n",
       "  </tbody>\n",
       "</table>\n",
       "</div>"
      ],
      "text/plain": [
       "  summary            longitude            latitude  housing_median_age  \\\n",
       "0   count                20433               20433               20433   \n",
       "1    mean  -119.57068859198068   35.63322125972706  28.633093525179856   \n",
       "2  stddev    2.003577890751096  2.1363476663779872  12.591805202182835   \n",
       "3     min              -124.35               32.54                 1.0   \n",
       "4     max              -114.31               41.95                52.0   \n",
       "\n",
       "          total_rooms      total_bedrooms          population  \\\n",
       "0               20433               20433               20433   \n",
       "1  2636.5042333480155   537.8705525375618  1424.9469485635982   \n",
       "2   2185.269566977601  421.38507007403115  1133.2084897449597   \n",
       "3                 2.0                 1.0                 3.0   \n",
       "4             39320.0              6445.0             35682.0   \n",
       "\n",
       "           households       median_income  median_house_value ocean_proximity  \n",
       "0               20433               20433               20433           20433  \n",
       "1  499.43346547251997  3.8711616013312273  206864.41315519012            None  \n",
       "2   382.2992258828481   1.899291249306247  115435.66709858322            None  \n",
       "3                 1.0              0.4999             14999.0       <1H OCEAN  \n",
       "4              6082.0             15.0001            500001.0      NEAR OCEAN  "
      ]
     },
     "metadata": {},
     "output_type": "display_data"
    }
   ],
   "source": [
    "# Пустоты не знаю чем заменить, любая замена может плохо повлиять на результат, поэтому просто исключу такие значения\n",
    "# print_df(df.fillna(-1).describe().toPandas())\n",
    "start_df = start_df.na.drop(subset=numerical_cols)\n",
    "print_df(start_df.describe().toPandas())"
   ]
  },
  {
   "cell_type": "code",
   "execution_count": 10,
   "metadata": {},
   "outputs": [
    {
     "name": "stdout",
     "output_type": "stream",
     "text": [
      "При удалении пустот потери составили 207, 1.0%\n"
     ]
    }
   ],
   "source": [
    "print(f'При удалении пустот потери составили {20640-20433}, {round(((20640-20433)/20640)*100, 2)}%')"
   ]
  },
  {
   "cell_type": "markdown",
   "metadata": {},
   "source": [
    "### Разделение на выборки\n",
    "\n"
   ]
  },
  {
   "cell_type": "code",
   "execution_count": 11,
   "metadata": {
    "id": "bddb08c4"
   },
   "outputs": [
    {
     "name": "stderr",
     "output_type": "stream",
     "text": [
      "                                                                                \r"
     ]
    },
    {
     "name": "stdout",
     "output_type": "stream",
     "text": [
      "16274 4159\n"
     ]
    }
   ],
   "source": [
    "# train_data, test_data, valid_data = df.randomSplit([.7,.2, .1], seed=12345)\n",
    "train_data, test_data = start_df.randomSplit([.8,.2], seed=12345)\n",
    "print(train_data.count(), test_data.count())#, valid_data.count())"
   ]
  },
  {
   "cell_type": "markdown",
   "metadata": {},
   "source": [
    "#### Преобразуйте колонку с категориальными значениями техникой One hot encoding"
   ]
  },
  {
   "cell_type": "code",
   "execution_count": 12,
   "metadata": {},
   "outputs": [
    {
     "name": "stderr",
     "output_type": "stream",
     "text": [
      "                                                                                \r"
     ]
    },
    {
     "name": "stdout",
     "output_type": "stream",
     "text": [
      "+---------------+-------------------+\n",
      "|ocean_proximity|ocean_proximity_idx|\n",
      "+---------------+-------------------+\n",
      "|     NEAR OCEAN|                2.0|\n",
      "+---------------+-------------------+\n",
      "only showing top 1 row\n",
      "\n",
      "None\n",
      "+-------------------+\n",
      "|ocean_proximity_ohe|\n",
      "+-------------------+\n",
      "|      (4,[2],[1.0])|\n",
      "+-------------------+\n",
      "only showing top 1 row\n",
      "\n",
      "None\n"
     ]
    }
   ],
   "source": [
    "indexer = StringIndexer(inputCols=categorical_cols, \n",
    "                        outputCols=[c+'_idx' for c in categorical_cols]) \n",
    "df = indexer.fit(train_data).transform(train_data)\n",
    "\n",
    "cols = [c for c in df.columns for i in categorical_cols if (c.startswith(i))]\n",
    "print(df.select(cols).show(1))\n",
    "\n",
    "encoder = OneHotEncoder(inputCols=[c+'_idx' for c in categorical_cols],\n",
    "                        outputCols=[c+'_ohe' for c in categorical_cols])\n",
    "df = (\n",
    "    encoder\n",
    "    .fit(df)\n",
    "    .transform(df)\n",
    "    .drop(col('ocean_proximity'))\n",
    "    .drop(col('ocean_proximity_idx'))\n",
    ")\n",
    "\n",
    "cols = [c for c in df.columns for i in categorical_cols if (c.startswith(i))]\n",
    "print(df.select(cols).show(1))\n",
    "\n"
   ]
  },
  {
   "cell_type": "code",
   "execution_count": 13,
   "metadata": {},
   "outputs": [
    {
     "name": "stdout",
     "output_type": "stream",
     "text": [
      "+---------------+-------------------+\n",
      "|ocean_proximity|ocean_proximity_idx|\n",
      "+---------------+-------------------+\n",
      "|     NEAR OCEAN|                2.0|\n",
      "+---------------+-------------------+\n",
      "only showing top 1 row\n",
      "\n",
      "None\n",
      "+-------------------+\n",
      "|ocean_proximity_ohe|\n",
      "+-------------------+\n",
      "|      (4,[2],[1.0])|\n",
      "+-------------------+\n",
      "only showing top 1 row\n",
      "\n",
      "None\n"
     ]
    }
   ],
   "source": [
    "# test_data\n",
    "test_df = indexer.fit(test_data).transform(test_data)\n",
    "\n",
    "cols = [c for c in test_df.columns for i in categorical_cols if (c.startswith(i))]\n",
    "print(test_df.select(cols).show(1))\n",
    "test_df = (\n",
    "    encoder\n",
    "    .fit(test_df)\n",
    "    .transform(test_df)\n",
    "    .drop(col('ocean_proximity'))\n",
    "    .drop(col('ocean_proximity_idx'))\n",
    ")\n",
    "cols = [c for c in test_df.columns for i in categorical_cols if (c.startswith(i))]\n",
    "print(test_df.select(cols).show(1))\n",
    "\n"
   ]
  },
  {
   "cell_type": "code",
   "execution_count": 14,
   "metadata": {},
   "outputs": [
    {
     "name": "stderr",
     "output_type": "stream",
     "text": [
      "                                                                                \r"
     ]
    },
    {
     "data": {
      "text/html": [
       "<div>\n",
       "<style scoped>\n",
       "    .dataframe tbody tr th:only-of-type {\n",
       "        vertical-align: middle;\n",
       "    }\n",
       "\n",
       "    .dataframe tbody tr th {\n",
       "        vertical-align: top;\n",
       "    }\n",
       "\n",
       "    .dataframe thead th {\n",
       "        text-align: right;\n",
       "    }\n",
       "</style>\n",
       "<table border=\"1\" class=\"dataframe\">\n",
       "  <thead>\n",
       "    <tr style=\"text-align: right;\">\n",
       "      <th></th>\n",
       "      <th>longitude</th>\n",
       "      <th>latitude</th>\n",
       "      <th>housing_median_age</th>\n",
       "      <th>total_rooms</th>\n",
       "      <th>total_bedrooms</th>\n",
       "      <th>population</th>\n",
       "      <th>households</th>\n",
       "      <th>median_income</th>\n",
       "      <th>median_house_value</th>\n",
       "      <th>ocean_proximity_ohe</th>\n",
       "      <th>numerical_features</th>\n",
       "      <th>numerical_features_scaled</th>\n",
       "    </tr>\n",
       "  </thead>\n",
       "  <tbody>\n",
       "    <tr>\n",
       "      <th>0</th>\n",
       "      <td>-124.35</td>\n",
       "      <td>40.54</td>\n",
       "      <td>52.00</td>\n",
       "      <td>1820.00</td>\n",
       "      <td>300.00</td>\n",
       "      <td>806.00</td>\n",
       "      <td>270.00</td>\n",
       "      <td>3.01</td>\n",
       "      <td>94600.00</td>\n",
       "      <td>(0.0, 0.0, 1.0, 0.0)</td>\n",
       "      <td>[-124.35, 40.54, 52.0, 1820.0, 300.0, 806.0, 2...</td>\n",
       "      <td>[-61.96187477252211, 18.921000446195844, 4.122...</td>\n",
       "    </tr>\n",
       "    <tr>\n",
       "      <th>1</th>\n",
       "      <td>-124.30</td>\n",
       "      <td>41.80</td>\n",
       "      <td>19.00</td>\n",
       "      <td>2672.00</td>\n",
       "      <td>552.00</td>\n",
       "      <td>1298.00</td>\n",
       "      <td>478.00</td>\n",
       "      <td>1.98</td>\n",
       "      <td>85800.00</td>\n",
       "      <td>(0.0, 0.0, 1.0, 0.0)</td>\n",
       "      <td>[-124.3, 41.8, 19.0, 2672.0, 552.0, 1298.0, 47...</td>\n",
       "      <td>[-61.93696046823079, 19.50907298103074, 1.5064...</td>\n",
       "    </tr>\n",
       "    <tr>\n",
       "      <th>2</th>\n",
       "      <td>-124.30</td>\n",
       "      <td>41.84</td>\n",
       "      <td>17.00</td>\n",
       "      <td>2677.00</td>\n",
       "      <td>531.00</td>\n",
       "      <td>1244.00</td>\n",
       "      <td>456.00</td>\n",
       "      <td>3.03</td>\n",
       "      <td>103600.00</td>\n",
       "      <td>(0.0, 0.0, 1.0, 0.0)</td>\n",
       "      <td>[-124.3, 41.84, 17.0, 2677.0, 531.0, 1244.0, 4...</td>\n",
       "      <td>[-61.93696046823079, 19.527741950390585, 1.347...</td>\n",
       "    </tr>\n",
       "  </tbody>\n",
       "</table>\n",
       "</div>"
      ],
      "text/plain": [
       "   longitude  latitude  housing_median_age  total_rooms  total_bedrooms  \\\n",
       "0    -124.35     40.54               52.00      1820.00          300.00   \n",
       "1    -124.30     41.80               19.00      2672.00          552.00   \n",
       "2    -124.30     41.84               17.00      2677.00          531.00   \n",
       "\n",
       "   population  households  median_income  median_house_value  \\\n",
       "0      806.00      270.00           3.01            94600.00   \n",
       "1     1298.00      478.00           1.98            85800.00   \n",
       "2     1244.00      456.00           3.03           103600.00   \n",
       "\n",
       "    ocean_proximity_ohe                                 numerical_features  \\\n",
       "0  (0.0, 0.0, 1.0, 0.0)  [-124.35, 40.54, 52.0, 1820.0, 300.0, 806.0, 2...   \n",
       "1  (0.0, 0.0, 1.0, 0.0)  [-124.3, 41.8, 19.0, 2672.0, 552.0, 1298.0, 47...   \n",
       "2  (0.0, 0.0, 1.0, 0.0)  [-124.3, 41.84, 17.0, 2677.0, 531.0, 1244.0, 4...   \n",
       "\n",
       "                           numerical_features_scaled  \n",
       "0  [-61.96187477252211, 18.921000446195844, 4.122...  \n",
       "1  [-61.93696046823079, 19.50907298103074, 1.5064...  \n",
       "2  [-61.93696046823079, 19.527741950390585, 1.347...  "
      ]
     },
     "metadata": {},
     "output_type": "display_data"
    },
    {
     "data": {
      "text/html": [
       "<div>\n",
       "<style scoped>\n",
       "    .dataframe tbody tr th:only-of-type {\n",
       "        vertical-align: middle;\n",
       "    }\n",
       "\n",
       "    .dataframe tbody tr th {\n",
       "        vertical-align: top;\n",
       "    }\n",
       "\n",
       "    .dataframe thead th {\n",
       "        text-align: right;\n",
       "    }\n",
       "</style>\n",
       "<table border=\"1\" class=\"dataframe\">\n",
       "  <thead>\n",
       "    <tr style=\"text-align: right;\">\n",
       "      <th></th>\n",
       "      <th>categorical_features</th>\n",
       "      <th>numerical_features_scaled</th>\n",
       "    </tr>\n",
       "  </thead>\n",
       "  <tbody>\n",
       "    <tr>\n",
       "      <th>0</th>\n",
       "      <td>(0.0, 0.0, 1.0, 0.0)</td>\n",
       "      <td>[-61.96187477252211, 18.921000446195844, 4.122...</td>\n",
       "    </tr>\n",
       "    <tr>\n",
       "      <th>1</th>\n",
       "      <td>(0.0, 0.0, 1.0, 0.0)</td>\n",
       "      <td>[-61.93696046823079, 19.50907298103074, 1.5064...</td>\n",
       "    </tr>\n",
       "    <tr>\n",
       "      <th>2</th>\n",
       "      <td>(0.0, 0.0, 1.0, 0.0)</td>\n",
       "      <td>[-61.93696046823079, 19.527741950390585, 1.347...</td>\n",
       "    </tr>\n",
       "  </tbody>\n",
       "</table>\n",
       "</div>"
      ],
      "text/plain": [
       "   categorical_features                          numerical_features_scaled\n",
       "0  (0.0, 0.0, 1.0, 0.0)  [-61.96187477252211, 18.921000446195844, 4.122...\n",
       "1  (0.0, 0.0, 1.0, 0.0)  [-61.93696046823079, 19.50907298103074, 1.5064...\n",
       "2  (0.0, 0.0, 1.0, 0.0)  [-61.93696046823079, 19.527741950390585, 1.347..."
      ]
     },
     "metadata": {},
     "output_type": "display_data"
    }
   ],
   "source": [
    "numerical_assembler = VectorAssembler(inputCols=numerical_cols,\n",
    " outputCol=\"numerical_features\")\n",
    "df = numerical_assembler.transform(df)\n",
    "\n",
    "standardScaler = StandardScaler(inputCol='numerical_features',\n",
    " outputCol=\"numerical_features_scaled\")\n",
    "df = (\n",
    "    standardScaler\n",
    "    .fit(df)\n",
    "    .transform(df)\n",
    ")\n",
    "print_df(df.limit(3).toPandas())\n",
    "\n",
    "all_features = ['categorical_features','numerical_features_scaled']\n",
    "\n",
    "categorical_assembler = VectorAssembler(\n",
    "    inputCols=[c+'_ohe' for c in categorical_cols]\n",
    "    , outputCol=\"categorical_features\")\n",
    "df = categorical_assembler.transform(df)\n",
    "print_df(df.select(all_features).limit(3).toPandas())\n",
    "\n",
    "\n",
    "\n",
    "final_assembler = VectorAssembler(inputCols=all_features, \n",
    "                                  outputCol=\"features\") \n",
    "df = final_assembler.transform(df)\n"
   ]
  },
  {
   "cell_type": "code",
   "execution_count": 15,
   "metadata": {},
   "outputs": [],
   "source": [
    "# print_df(df.limit(2).toPandas().T)"
   ]
  },
  {
   "cell_type": "code",
   "execution_count": 16,
   "metadata": {},
   "outputs": [
    {
     "data": {
      "text/html": [
       "<div>\n",
       "<style scoped>\n",
       "    .dataframe tbody tr th:only-of-type {\n",
       "        vertical-align: middle;\n",
       "    }\n",
       "\n",
       "    .dataframe tbody tr th {\n",
       "        vertical-align: top;\n",
       "    }\n",
       "\n",
       "    .dataframe thead th {\n",
       "        text-align: right;\n",
       "    }\n",
       "</style>\n",
       "<table border=\"1\" class=\"dataframe\">\n",
       "  <thead>\n",
       "    <tr style=\"text-align: right;\">\n",
       "      <th></th>\n",
       "      <th>longitude</th>\n",
       "      <th>latitude</th>\n",
       "      <th>housing_median_age</th>\n",
       "      <th>total_rooms</th>\n",
       "      <th>total_bedrooms</th>\n",
       "      <th>population</th>\n",
       "      <th>households</th>\n",
       "      <th>median_income</th>\n",
       "      <th>median_house_value</th>\n",
       "      <th>ocean_proximity_ohe</th>\n",
       "      <th>numerical_features</th>\n",
       "      <th>numerical_features_scaled</th>\n",
       "    </tr>\n",
       "  </thead>\n",
       "  <tbody>\n",
       "    <tr>\n",
       "      <th>0</th>\n",
       "      <td>-124.23</td>\n",
       "      <td>40.54</td>\n",
       "      <td>52.00</td>\n",
       "      <td>2694.00</td>\n",
       "      <td>453.00</td>\n",
       "      <td>1152.00</td>\n",
       "      <td>435.00</td>\n",
       "      <td>3.08</td>\n",
       "      <td>106700.00</td>\n",
       "      <td>(0.0, 0.0, 1.0, 0.0)</td>\n",
       "      <td>[-124.23, 40.54, 52.0, 2694.0, 453.0, 1152.0, ...</td>\n",
       "      <td>[-62.41294758890141, 19.199106084750266, 4.155...</td>\n",
       "    </tr>\n",
       "    <tr>\n",
       "      <th>1</th>\n",
       "      <td>-124.17</td>\n",
       "      <td>40.74</td>\n",
       "      <td>17.00</td>\n",
       "      <td>2026.00</td>\n",
       "      <td>338.00</td>\n",
       "      <td>873.00</td>\n",
       "      <td>313.00</td>\n",
       "      <td>4.04</td>\n",
       "      <td>128900.00</td>\n",
       "      <td>(0.0, 0.0, 1.0, 0.0)</td>\n",
       "      <td>[-124.17, 40.74, 17.0, 2026.0, 338.0, 873.0, 3...</td>\n",
       "      <td>[-62.38280368762689, 19.29382293765974, 1.3585...</td>\n",
       "    </tr>\n",
       "    <tr>\n",
       "      <th>2</th>\n",
       "      <td>-124.17</td>\n",
       "      <td>40.75</td>\n",
       "      <td>13.00</td>\n",
       "      <td>2171.00</td>\n",
       "      <td>339.00</td>\n",
       "      <td>951.00</td>\n",
       "      <td>353.00</td>\n",
       "      <td>4.85</td>\n",
       "      <td>116100.00</td>\n",
       "      <td>(0.0, 0.0, 1.0, 0.0)</td>\n",
       "      <td>[-124.17, 40.75, 13.0, 2171.0, 339.0, 951.0, 3...</td>\n",
       "      <td>[-62.38280368762689, 19.298558780305214, 1.038...</td>\n",
       "    </tr>\n",
       "  </tbody>\n",
       "</table>\n",
       "</div>"
      ],
      "text/plain": [
       "   longitude  latitude  housing_median_age  total_rooms  total_bedrooms  \\\n",
       "0    -124.23     40.54               52.00      2694.00          453.00   \n",
       "1    -124.17     40.74               17.00      2026.00          338.00   \n",
       "2    -124.17     40.75               13.00      2171.00          339.00   \n",
       "\n",
       "   population  households  median_income  median_house_value  \\\n",
       "0     1152.00      435.00           3.08           106700.00   \n",
       "1      873.00      313.00           4.04           128900.00   \n",
       "2      951.00      353.00           4.85           116100.00   \n",
       "\n",
       "    ocean_proximity_ohe                                 numerical_features  \\\n",
       "0  (0.0, 0.0, 1.0, 0.0)  [-124.23, 40.54, 52.0, 2694.0, 453.0, 1152.0, ...   \n",
       "1  (0.0, 0.0, 1.0, 0.0)  [-124.17, 40.74, 17.0, 2026.0, 338.0, 873.0, 3...   \n",
       "2  (0.0, 0.0, 1.0, 0.0)  [-124.17, 40.75, 13.0, 2171.0, 339.0, 951.0, 3...   \n",
       "\n",
       "                           numerical_features_scaled  \n",
       "0  [-62.41294758890141, 19.199106084750266, 4.155...  \n",
       "1  [-62.38280368762689, 19.29382293765974, 1.3585...  \n",
       "2  [-62.38280368762689, 19.298558780305214, 1.038...  "
      ]
     },
     "metadata": {},
     "output_type": "display_data"
    },
    {
     "data": {
      "text/html": [
       "<div>\n",
       "<style scoped>\n",
       "    .dataframe tbody tr th:only-of-type {\n",
       "        vertical-align: middle;\n",
       "    }\n",
       "\n",
       "    .dataframe tbody tr th {\n",
       "        vertical-align: top;\n",
       "    }\n",
       "\n",
       "    .dataframe thead th {\n",
       "        text-align: right;\n",
       "    }\n",
       "</style>\n",
       "<table border=\"1\" class=\"dataframe\">\n",
       "  <thead>\n",
       "    <tr style=\"text-align: right;\">\n",
       "      <th></th>\n",
       "      <th>categorical_features</th>\n",
       "      <th>numerical_features_scaled</th>\n",
       "    </tr>\n",
       "  </thead>\n",
       "  <tbody>\n",
       "    <tr>\n",
       "      <th>0</th>\n",
       "      <td>(0.0, 0.0, 1.0, 0.0)</td>\n",
       "      <td>[-62.41294758890141, 19.199106084750266, 4.155...</td>\n",
       "    </tr>\n",
       "    <tr>\n",
       "      <th>1</th>\n",
       "      <td>(0.0, 0.0, 1.0, 0.0)</td>\n",
       "      <td>[-62.38280368762689, 19.29382293765974, 1.3585...</td>\n",
       "    </tr>\n",
       "    <tr>\n",
       "      <th>2</th>\n",
       "      <td>(0.0, 0.0, 1.0, 0.0)</td>\n",
       "      <td>[-62.38280368762689, 19.298558780305214, 1.038...</td>\n",
       "    </tr>\n",
       "  </tbody>\n",
       "</table>\n",
       "</div>"
      ],
      "text/plain": [
       "   categorical_features                          numerical_features_scaled\n",
       "0  (0.0, 0.0, 1.0, 0.0)  [-62.41294758890141, 19.199106084750266, 4.155...\n",
       "1  (0.0, 0.0, 1.0, 0.0)  [-62.38280368762689, 19.29382293765974, 1.3585...\n",
       "2  (0.0, 0.0, 1.0, 0.0)  [-62.38280368762689, 19.298558780305214, 1.038..."
      ]
     },
     "metadata": {},
     "output_type": "display_data"
    }
   ],
   "source": [
    "# test_df\n",
    "test_df = numerical_assembler.transform(test_df)\n",
    "\n",
    "test_df = (\n",
    "    standardScaler\n",
    "    .fit(test_df)\n",
    "    .transform(test_df)\n",
    ")\n",
    "print_df(test_df.limit(3).toPandas())\n",
    "\n",
    "test_df = categorical_assembler.transform(test_df)\n",
    "print_df(test_df.select(all_features).limit(3).toPandas())\n",
    "\n",
    "test_df = final_assembler.transform(test_df)\n"
   ]
  },
  {
   "cell_type": "code",
   "execution_count": 17,
   "metadata": {},
   "outputs": [],
   "source": [
    "# for i in df.limit(1).toPandas().columns:\n",
    "#     print(\", col('\"+i+\"')\")"
   ]
  },
  {
   "cell_type": "markdown",
   "metadata": {
    "id": "9f0a82f3"
   },
   "source": [
    "## Обучение моделей"
   ]
  },
  {
   "cell_type": "markdown",
   "metadata": {},
   "source": [
    "Постройте две модели линейной регрессии на разных наборах данных:\n",
    "используя все данные из файла;\n",
    "используя только числовые переменные, исключив категориальные.\n",
    "Для построения модели используйте оценщик LinearRegression из библиотеки MLlib."
   ]
  },
  {
   "cell_type": "markdown",
   "metadata": {},
   "source": [
    "### Обучение модели"
   ]
  },
  {
   "cell_type": "markdown",
   "metadata": {},
   "source": [
    "#### обученную на всех данных"
   ]
  },
  {
   "cell_type": "code",
   "execution_count": 18,
   "metadata": {},
   "outputs": [
    {
     "name": "stderr",
     "output_type": "stream",
     "text": [
      "24/02/10 05:59:17 WARN Instrumentation: [b4e9f3c9] regParam is zero, which might cause numerical instability and overfitting.\n",
      "24/02/10 05:59:17 WARN BLAS: Failed to load implementation from: com.github.fommil.netlib.NativeSystemBLAS\n",
      "24/02/10 05:59:17 WARN BLAS: Failed to load implementation from: com.github.fommil.netlib.NativeRefBLAS\n",
      "24/02/10 05:59:18 WARN LAPACK: Failed to load implementation from: com.github.fommil.netlib.NativeSystemLAPACK\n",
      "24/02/10 05:59:18 WARN LAPACK: Failed to load implementation from: com.github.fommil.netlib.NativeRefLAPACK\n",
      "                                                                                \r"
     ]
    },
    {
     "name": "stdout",
     "output_type": "stream",
     "text": [
      "+------------------+------------------+\n",
      "|median_house_value|        prediction|\n",
      "+------------------+------------------+\n",
      "|          106700.0| 222057.7088553328|\n",
      "|          128900.0|211618.79102734523|\n",
      "|          116100.0| 236739.8270487073|\n",
      "|           70500.0| 167155.2706735488|\n",
      "|           85600.0|192139.88636508724|\n",
      "|           75500.0| 141206.7277661264|\n",
      "|           79600.0|167359.86729453504|\n",
      "|           92800.0|212807.39938381873|\n",
      "|           75000.0|118920.36473653745|\n",
      "|           74100.0|139593.38552329363|\n",
      "|           99600.0|154472.65722586727|\n",
      "|          143000.0| 205976.8782780082|\n",
      "|          133900.0|205833.31734374678|\n",
      "|           70700.0|132758.05619673664|\n",
      "|           71100.0|  123210.330452919|\n",
      "|          106300.0|185142.89142902708|\n",
      "|          150000.0|163025.88386321533|\n",
      "|          145800.0|144699.46289487835|\n",
      "|           76800.0|129211.55409948528|\n",
      "|          277000.0|209651.34244175814|\n",
      "+------------------+------------------+\n",
      "only showing top 20 rows\n",
      "\n",
      "CPU times: user 18.7 ms, sys: 8.86 ms, total: 27.5 ms\n",
      "Wall time: 3.48 s\n"
     ]
    }
   ],
   "source": [
    "%%time\n",
    "lr = LinearRegression(labelCol=target, featuresCol='features')\n",
    "model = lr.fit(df)\n",
    "\n",
    "predictions = model.transform(test_df)\n",
    "predictedLabes = predictions.select(target, \"prediction\")\n",
    "predictedLabes.show()"
   ]
  },
  {
   "cell_type": "markdown",
   "metadata": {},
   "source": [
    "#### только на числовых признаках"
   ]
  },
  {
   "cell_type": "code",
   "execution_count": 19,
   "metadata": {},
   "outputs": [
    {
     "name": "stderr",
     "output_type": "stream",
     "text": [
      "24/02/10 05:59:20 WARN Instrumentation: [36521630] regParam is zero, which might cause numerical instability and overfitting.\n"
     ]
    },
    {
     "name": "stdout",
     "output_type": "stream",
     "text": [
      "+------------------+------------------+\n",
      "|median_house_value|        prediction|\n",
      "+------------------+------------------+\n",
      "|          106700.0|204400.87696393346|\n",
      "|          128900.0|187795.65599645954|\n",
      "|          116100.0| 212850.4290227187|\n",
      "|           70500.0|143596.49410904152|\n",
      "|           85600.0| 168831.4398709694|\n",
      "|           75500.0|112353.94860424288|\n",
      "|           79600.0|146466.32176567102|\n",
      "|           92800.0|188876.66543677775|\n",
      "|           75000.0| 91700.44832249358|\n",
      "|           74100.0|112687.07235120377|\n",
      "|           99600.0|125538.15461986978|\n",
      "|          143000.0| 179332.1410093815|\n",
      "|          133900.0|181646.55299546244|\n",
      "|           70700.0|117263.18308426253|\n",
      "|           71100.0| 82016.63810589304|\n",
      "|          106300.0| 157532.6287729172|\n",
      "|          150000.0|158560.50940309325|\n",
      "|          145800.0|130012.94328301493|\n",
      "|           76800.0|112580.72161014937|\n",
      "|          277000.0|206014.30507776607|\n",
      "+------------------+------------------+\n",
      "only showing top 20 rows\n",
      "\n"
     ]
    }
   ],
   "source": [
    "lr_nall = LinearRegression(labelCol=target, featuresCol='numerical_features_scaled')\n",
    "model_nall = lr_nall.fit(df)\n",
    "\n",
    "predictions_nall = model_nall.transform(test_df)\n",
    "predictedLabes_nall = predictions_nall.select(target, \"prediction\")\n",
    "predictedLabes_nall.show()"
   ]
  },
  {
   "cell_type": "markdown",
   "metadata": {
    "id": "757fd103"
   },
   "source": [
    "## Анализ результатов"
   ]
  },
  {
   "cell_type": "markdown",
   "metadata": {},
   "source": [
    "Сравните результаты работы линейной регрессии на двух наборах данных по метрикам RMSE, MAE и R2. Сделайте выводы."
   ]
  },
  {
   "cell_type": "code",
   "execution_count": 20,
   "metadata": {},
   "outputs": [
    {
     "name": "stderr",
     "output_type": "stream",
     "text": [
      "                                                                                \r"
     ]
    },
    {
     "name": "stdout",
     "output_type": "stream",
     "text": [
      "RMSE = 68801.32383046365\n",
      "R-squared = 0.4377666800100797\n",
      "MAE = 51836.38324793676\n"
     ]
    }
   ],
   "source": [
    "results_collect = predictedLabes.collect()\n",
    "results_list = [ (float(i[0]), float(i[1])) for i in results_collect]\n",
    "scoreAndLabels = spark.sparkContext.parallelize(results_list)\n",
    "\n",
    "metrics = RegressionMetrics(scoreAndLabels)\n",
    "# Root mean squared error\n",
    "print(\"RMSE = %s\" % metrics.rootMeanSquaredError)\n",
    "# R-squared\n",
    "print(\"R-squared = %s\" % metrics.r2)\n",
    "print(f\"MAE = {metrics.meanAbsoluteError}\")"
   ]
  },
  {
   "cell_type": "markdown",
   "metadata": {},
   "source": [
    "Модель очень плохая, R2 меншье 0.5, большие разбросы."
   ]
  },
  {
   "cell_type": "code",
   "execution_count": 21,
   "metadata": {},
   "outputs": [
    {
     "name": "stdout",
     "output_type": "stream",
     "text": [
      "RMSE = 71123.18941960506\n",
      "R-squared = 0.392557673542405\n",
      "MAE = 55201.64592314891\n"
     ]
    }
   ],
   "source": [
    "results_collect_nall = predictedLabes_nall.collect()\n",
    "results_list_nall = [ (float(i[0]), float(i[1])) for i in results_collect_nall]\n",
    "scoreAndLabels_nall = spark.sparkContext.parallelize(results_list_nall)\n",
    "\n",
    "metrics_nall = RegressionMetrics(scoreAndLabels_nall)\n",
    "# Root mean squared error\n",
    "print(\"RMSE = %s\" % metrics_nall.rootMeanSquaredError)\n",
    "# R-squared\n",
    "print(\"R-squared = %s\" % metrics_nall.r2)\n",
    "print(f\"MAE = {metrics_nall.meanAbsoluteError}\")"
   ]
  },
  {
   "cell_type": "code",
   "execution_count": 22,
   "metadata": {},
   "outputs": [
    {
     "name": "stdout",
     "output_type": "stream",
     "text": [
      "MASE = 0.9390369142272093\n"
     ]
    }
   ],
   "source": [
    "MASE = metrics.meanAbsoluteError/metrics_nall.meanAbsoluteError\n",
    "print(f\"MASE = {MASE}\")"
   ]
  },
  {
   "cell_type": "markdown",
   "metadata": {},
   "source": [
    "## Вывод\n",
    "Средняя абсолютная масштабированная ошибка (Mean absolute scaled error - MASE) равна 0.93, означает что модель на только числовых признаках хуже. Это так же подтверждает и показатель R2.<br>\n",
    "В целом R2 меньше 0.5, говорит о том, что модель плохая, на это указывает так же и большие значения показателей MAE и RMSE."
   ]
  },
  {
   "cell_type": "code",
   "execution_count": 23,
   "metadata": {},
   "outputs": [],
   "source": [
    "# start_df_info"
   ]
  },
  {
   "cell_type": "code",
   "execution_count": null,
   "metadata": {},
   "outputs": [],
   "source": []
  }
 ],
 "metadata": {
  "ExecuteTimeLog": [
   {
    "duration": 16714,
    "start_time": "2024-02-04T09:08:48.175Z"
   },
   {
    "duration": 111,
    "start_time": "2024-02-04T09:10:57.319Z"
   },
   {
    "duration": 3,
    "start_time": "2024-02-04T09:11:02.476Z"
   },
   {
    "duration": 6,
    "start_time": "2024-02-04T09:11:04.020Z"
   },
   {
    "duration": 9013,
    "start_time": "2024-02-04T09:12:28.205Z"
   },
   {
    "duration": 5,
    "start_time": "2024-02-04T09:15:38.072Z"
   },
   {
    "duration": 4,
    "start_time": "2024-02-04T09:17:45.340Z"
   },
   {
    "duration": 4393,
    "start_time": "2024-02-04T09:18:42.596Z"
   },
   {
    "duration": 2417,
    "start_time": "2024-02-04T09:19:04.164Z"
   },
   {
    "duration": 1362,
    "start_time": "2024-02-04T09:19:28.148Z"
   },
   {
    "duration": 1190,
    "start_time": "2024-02-04T09:19:41.604Z"
   },
   {
    "duration": 32,
    "start_time": "2024-02-04T09:23:35.255Z"
   },
   {
    "duration": 1573,
    "start_time": "2024-02-04T09:23:45.509Z"
   },
   {
    "duration": 35,
    "start_time": "2024-02-04T09:24:00.509Z"
   },
   {
    "duration": 1026,
    "start_time": "2024-02-04T09:24:04.280Z"
   },
   {
    "duration": 1511,
    "start_time": "2024-02-04T09:24:23.206Z"
   },
   {
    "duration": 64,
    "start_time": "2024-02-04T09:29:01.090Z"
   },
   {
    "duration": 113,
    "start_time": "2024-02-04T09:29:30.585Z"
   },
   {
    "duration": 121,
    "start_time": "2024-02-04T09:30:12.249Z"
   },
   {
    "duration": 886,
    "start_time": "2024-02-04T09:30:21.809Z"
   },
   {
    "duration": 11,
    "start_time": "2024-02-04T09:31:54.822Z"
   },
   {
    "duration": 11,
    "start_time": "2024-02-04T09:32:10.031Z"
   },
   {
    "duration": 10,
    "start_time": "2024-02-04T09:32:41.766Z"
   },
   {
    "duration": 123,
    "start_time": "2024-02-04T09:32:51.271Z"
   },
   {
    "duration": 1094,
    "start_time": "2024-02-04T09:33:14.014Z"
   },
   {
    "duration": 4,
    "start_time": "2024-02-04T09:39:35.215Z"
   },
   {
    "duration": 5,
    "start_time": "2024-02-04T09:41:16.125Z"
   },
   {
    "duration": 3,
    "start_time": "2024-02-04T09:41:26.613Z"
   },
   {
    "duration": 3,
    "start_time": "2024-02-04T09:41:31.500Z"
   },
   {
    "duration": 4,
    "start_time": "2024-02-04T09:41:49.876Z"
   },
   {
    "duration": 3,
    "start_time": "2024-02-04T09:42:06.796Z"
   },
   {
    "duration": 3,
    "start_time": "2024-02-04T09:42:11.661Z"
   },
   {
    "duration": 4,
    "start_time": "2024-02-04T09:42:27.484Z"
   },
   {
    "duration": 4,
    "start_time": "2024-02-04T09:42:34.112Z"
   },
   {
    "duration": 11,
    "start_time": "2024-02-04T09:44:27.197Z"
   },
   {
    "duration": 10,
    "start_time": "2024-02-04T09:44:53.562Z"
   },
   {
    "duration": 8,
    "start_time": "2024-02-04T09:45:09.538Z"
   },
   {
    "duration": 3,
    "start_time": "2024-02-04T09:45:14.057Z"
   },
   {
    "duration": 894,
    "start_time": "2024-02-04T09:45:20.902Z"
   },
   {
    "duration": 3,
    "start_time": "2024-02-04T09:45:24.825Z"
   },
   {
    "duration": 1746,
    "start_time": "2024-02-04T09:45:28.154Z"
   },
   {
    "duration": 759,
    "start_time": "2024-02-04T09:47:49.629Z"
   },
   {
    "duration": 585,
    "start_time": "2024-02-04T09:48:18.903Z"
   },
   {
    "duration": 780,
    "start_time": "2024-02-04T09:48:27.644Z"
   },
   {
    "duration": 16905,
    "start_time": "2024-02-04T09:51:36.790Z"
   },
   {
    "duration": 9385,
    "start_time": "2024-02-04T09:51:53.697Z"
   },
   {
    "duration": 4,
    "start_time": "2024-02-04T09:52:03.084Z"
   },
   {
    "duration": 13,
    "start_time": "2024-02-04T09:52:03.090Z"
   },
   {
    "duration": 293,
    "start_time": "2024-02-04T09:52:03.104Z"
   },
   {
    "duration": 4,
    "start_time": "2024-02-04T09:52:03.399Z"
   },
   {
    "duration": 4382,
    "start_time": "2024-02-04T09:52:03.405Z"
   },
   {
    "duration": 1822,
    "start_time": "2024-02-04T09:52:07.788Z"
   },
   {
    "duration": 18543,
    "start_time": "2024-02-05T05:15:04.535Z"
   },
   {
    "duration": 5,
    "start_time": "2024-02-05T05:15:23.082Z"
   },
   {
    "duration": 9490,
    "start_time": "2024-02-05T05:15:23.089Z"
   },
   {
    "duration": 5,
    "start_time": "2024-02-05T05:15:32.582Z"
   },
   {
    "duration": 386,
    "start_time": "2024-02-05T05:15:32.590Z"
   },
   {
    "duration": 4,
    "start_time": "2024-02-05T05:15:32.978Z"
   },
   {
    "duration": 5204,
    "start_time": "2024-02-05T05:15:32.984Z"
   },
   {
    "duration": 287,
    "start_time": "2024-02-05T05:16:39.717Z"
   },
   {
    "duration": 3,
    "start_time": "2024-02-05T05:17:17.503Z"
   },
   {
    "duration": 146,
    "start_time": "2024-02-05T05:18:15.158Z"
   },
   {
    "duration": 6,
    "start_time": "2024-02-05T05:18:59.063Z"
   },
   {
    "duration": 123,
    "start_time": "2024-02-05T05:19:48.366Z"
   },
   {
    "duration": 6046,
    "start_time": "2024-02-05T05:23:26.249Z"
   },
   {
    "duration": 3074,
    "start_time": "2024-02-05T05:23:39.305Z"
   },
   {
    "duration": 19,
    "start_time": "2024-02-05T05:24:50.985Z"
   },
   {
    "duration": 10,
    "start_time": "2024-02-05T05:25:09.083Z"
   },
   {
    "duration": 14,
    "start_time": "2024-02-05T05:27:46.818Z"
   },
   {
    "duration": 32,
    "start_time": "2024-02-05T05:28:06.417Z"
   },
   {
    "duration": 21,
    "start_time": "2024-02-05T05:28:14.801Z"
   },
   {
    "duration": 8,
    "start_time": "2024-02-05T05:28:35.347Z"
   },
   {
    "duration": 20,
    "start_time": "2024-02-05T05:29:09.364Z"
   },
   {
    "duration": 136,
    "start_time": "2024-02-05T05:53:20.987Z"
   },
   {
    "duration": 21,
    "start_time": "2024-02-05T05:53:49.746Z"
   },
   {
    "duration": 1545,
    "start_time": "2024-02-05T05:54:04.335Z"
   },
   {
    "duration": 594,
    "start_time": "2024-02-05T05:54:12.635Z"
   },
   {
    "duration": 45,
    "start_time": "2024-02-05T05:54:43.459Z"
   },
   {
    "duration": 244,
    "start_time": "2024-02-05T05:55:35.148Z"
   },
   {
    "duration": 14,
    "start_time": "2024-02-05T06:00:00.424Z"
   },
   {
    "duration": 104,
    "start_time": "2024-02-05T06:00:11.644Z"
   },
   {
    "duration": 16013,
    "start_time": "2024-02-05T06:00:24.756Z"
   },
   {
    "duration": 3,
    "start_time": "2024-02-05T06:00:40.771Z"
   },
   {
    "duration": 8425,
    "start_time": "2024-02-05T06:00:40.776Z"
   },
   {
    "duration": 5,
    "start_time": "2024-02-05T06:00:49.258Z"
   },
   {
    "duration": 301,
    "start_time": "2024-02-05T06:00:49.264Z"
   },
   {
    "duration": 3,
    "start_time": "2024-02-05T06:00:49.566Z"
   },
   {
    "duration": 4014,
    "start_time": "2024-02-05T06:00:49.571Z"
   },
   {
    "duration": 1576,
    "start_time": "2024-02-05T06:00:53.586Z"
   },
   {
    "duration": 3,
    "start_time": "2024-02-05T06:00:55.163Z"
   },
   {
    "duration": 2015,
    "start_time": "2024-02-05T06:00:55.168Z"
   },
   {
    "duration": 731,
    "start_time": "2024-02-05T06:00:57.184Z"
   },
   {
    "duration": 167,
    "start_time": "2024-02-05T06:00:57.916Z"
   },
   {
    "duration": 408,
    "start_time": "2024-02-05T06:00:58.084Z"
   },
   {
    "duration": 17714,
    "start_time": "2024-02-05T13:17:59.167Z"
   },
   {
    "duration": 4,
    "start_time": "2024-02-05T13:18:16.884Z"
   },
   {
    "duration": 10513,
    "start_time": "2024-02-05T13:18:16.890Z"
   },
   {
    "duration": 6,
    "start_time": "2024-02-05T13:18:27.406Z"
   },
   {
    "duration": 282,
    "start_time": "2024-02-05T13:18:27.414Z"
   },
   {
    "duration": 4,
    "start_time": "2024-02-05T13:18:27.698Z"
   },
   {
    "duration": 5297,
    "start_time": "2024-02-05T13:18:27.705Z"
   },
   {
    "duration": 2282,
    "start_time": "2024-02-05T13:18:33.004Z"
   },
   {
    "duration": 4,
    "start_time": "2024-02-05T13:18:35.287Z"
   },
   {
    "duration": 2609,
    "start_time": "2024-02-05T13:18:35.293Z"
   },
   {
    "duration": 803,
    "start_time": "2024-02-05T13:18:37.904Z"
   },
   {
    "duration": 764,
    "start_time": "2024-02-05T13:18:38.710Z"
   },
   {
    "duration": 129,
    "start_time": "2024-02-05T13:20:13.278Z"
   },
   {
    "duration": 13,
    "start_time": "2024-02-05T13:20:32.749Z"
   },
   {
    "duration": 4,
    "start_time": "2024-02-05T13:20:44.341Z"
   },
   {
    "duration": 17225,
    "start_time": "2024-02-06T03:11:44.658Z"
   },
   {
    "duration": 5,
    "start_time": "2024-02-06T03:12:01.886Z"
   },
   {
    "duration": 10196,
    "start_time": "2024-02-06T03:12:01.893Z"
   },
   {
    "duration": 6,
    "start_time": "2024-02-06T03:12:12.092Z"
   },
   {
    "duration": 295,
    "start_time": "2024-02-06T03:12:12.099Z"
   },
   {
    "duration": 3,
    "start_time": "2024-02-06T03:12:12.396Z"
   },
   {
    "duration": 5003,
    "start_time": "2024-02-06T03:12:12.472Z"
   },
   {
    "duration": 1714,
    "start_time": "2024-02-06T03:12:17.477Z"
   },
   {
    "duration": 3,
    "start_time": "2024-02-06T03:12:19.193Z"
   },
   {
    "duration": 2336,
    "start_time": "2024-02-06T03:12:19.199Z"
   },
   {
    "duration": 742,
    "start_time": "2024-02-06T03:12:21.536Z"
   },
   {
    "duration": 314,
    "start_time": "2024-02-06T03:12:33.489Z"
   },
   {
    "duration": 903,
    "start_time": "2024-02-06T03:13:24.971Z"
   },
   {
    "duration": 348,
    "start_time": "2024-02-06T03:13:26.025Z"
   },
   {
    "duration": 119,
    "start_time": "2024-02-06T03:13:36.776Z"
   },
   {
    "duration": 245,
    "start_time": "2024-02-06T03:14:09.056Z"
   },
   {
    "duration": 197,
    "start_time": "2024-02-06T03:15:59.292Z"
   },
   {
    "duration": 276,
    "start_time": "2024-02-06T03:16:21.211Z"
   },
   {
    "duration": 1919,
    "start_time": "2024-02-06T03:17:59.378Z"
   },
   {
    "duration": 1010,
    "start_time": "2024-02-06T03:19:46.811Z"
   },
   {
    "duration": 263,
    "start_time": "2024-02-06T03:19:57.824Z"
   },
   {
    "duration": 151,
    "start_time": "2024-02-06T03:20:05.334Z"
   },
   {
    "duration": 290,
    "start_time": "2024-02-06T03:20:23.902Z"
   },
   {
    "duration": 741,
    "start_time": "2024-02-06T03:21:13.962Z"
   },
   {
    "duration": 277,
    "start_time": "2024-02-06T03:21:21.036Z"
   },
   {
    "duration": 183,
    "start_time": "2024-02-06T03:21:30.106Z"
   },
   {
    "duration": 1212,
    "start_time": "2024-02-06T03:22:08.174Z"
   },
   {
    "duration": 15,
    "start_time": "2024-02-06T03:26:47.126Z"
   },
   {
    "duration": 2222,
    "start_time": "2024-02-06T03:26:57.176Z"
   },
   {
    "duration": 173,
    "start_time": "2024-02-06T03:36:35.459Z"
   },
   {
    "duration": 157,
    "start_time": "2024-02-06T03:42:33.938Z"
   },
   {
    "duration": 600,
    "start_time": "2024-02-06T03:43:08.220Z"
   },
   {
    "duration": 260,
    "start_time": "2024-02-06T03:43:09.042Z"
   },
   {
    "duration": 907,
    "start_time": "2024-02-06T03:43:10.511Z"
   },
   {
    "duration": 706,
    "start_time": "2024-02-06T03:44:51.800Z"
   },
   {
    "duration": 174,
    "start_time": "2024-02-06T03:44:52.706Z"
   },
   {
    "duration": 769,
    "start_time": "2024-02-06T03:44:54.065Z"
   },
   {
    "duration": 110,
    "start_time": "2024-02-06T03:47:14.630Z"
   },
   {
    "duration": 515,
    "start_time": "2024-02-06T03:47:37.494Z"
   },
   {
    "duration": 168,
    "start_time": "2024-02-06T03:47:41.610Z"
   },
   {
    "duration": 885,
    "start_time": "2024-02-06T03:48:14.327Z"
   },
   {
    "duration": 4,
    "start_time": "2024-02-06T03:49:50.706Z"
   },
   {
    "duration": 4,
    "start_time": "2024-02-06T04:24:55.077Z"
   },
   {
    "duration": 921,
    "start_time": "2024-02-06T04:28:37.531Z"
   },
   {
    "duration": 707,
    "start_time": "2024-02-06T04:29:26.106Z"
   },
   {
    "duration": 137,
    "start_time": "2024-02-06T04:29:34.538Z"
   },
   {
    "duration": 858,
    "start_time": "2024-02-06T04:30:04.243Z"
   },
   {
    "duration": 761,
    "start_time": "2024-02-06T04:31:16.017Z"
   },
   {
    "duration": 890,
    "start_time": "2024-02-06T04:31:22.916Z"
   },
   {
    "duration": 265,
    "start_time": "2024-02-06T04:31:34.714Z"
   },
   {
    "duration": 2256,
    "start_time": "2024-02-06T04:31:45.960Z"
   },
   {
    "duration": 77262,
    "start_time": "2024-02-06T04:31:52.546Z"
   },
   {
    "duration": 18161,
    "start_time": "2024-02-06T04:33:23.250Z"
   },
   {
    "duration": 4,
    "start_time": "2024-02-06T04:33:41.413Z"
   },
   {
    "duration": 9792,
    "start_time": "2024-02-06T04:33:41.418Z"
   },
   {
    "duration": 63,
    "start_time": "2024-02-06T04:33:51.212Z"
   },
   {
    "duration": 315,
    "start_time": "2024-02-06T04:33:51.276Z"
   },
   {
    "duration": 4,
    "start_time": "2024-02-06T04:33:51.593Z"
   },
   {
    "duration": 4981,
    "start_time": "2024-02-06T04:33:51.599Z"
   },
   {
    "duration": 2025,
    "start_time": "2024-02-06T04:33:56.582Z"
   },
   {
    "duration": 4,
    "start_time": "2024-02-06T04:33:58.674Z"
   },
   {
    "duration": 2807,
    "start_time": "2024-02-06T04:33:58.682Z"
   },
   {
    "duration": 0,
    "start_time": "2024-02-06T04:34:01.492Z"
   },
   {
    "duration": 0,
    "start_time": "2024-02-06T04:34:01.493Z"
   },
   {
    "duration": 1,
    "start_time": "2024-02-06T04:34:01.494Z"
   },
   {
    "duration": 0,
    "start_time": "2024-02-06T04:34:01.496Z"
   },
   {
    "duration": 11,
    "start_time": "2024-02-06T05:02:35.091Z"
   },
   {
    "duration": 17360,
    "start_time": "2024-02-06T05:02:53.895Z"
   },
   {
    "duration": 4,
    "start_time": "2024-02-06T05:03:11.257Z"
   },
   {
    "duration": 9304,
    "start_time": "2024-02-06T05:03:11.272Z"
   },
   {
    "duration": 6,
    "start_time": "2024-02-06T05:03:20.579Z"
   },
   {
    "duration": 303,
    "start_time": "2024-02-06T05:03:20.587Z"
   },
   {
    "duration": 4,
    "start_time": "2024-02-06T05:03:20.892Z"
   },
   {
    "duration": 4776,
    "start_time": "2024-02-06T05:03:20.897Z"
   },
   {
    "duration": 1833,
    "start_time": "2024-02-06T05:03:25.675Z"
   },
   {
    "duration": 4,
    "start_time": "2024-02-06T05:03:27.573Z"
   },
   {
    "duration": 2224,
    "start_time": "2024-02-06T05:03:27.579Z"
   },
   {
    "duration": 0,
    "start_time": "2024-02-06T05:03:29.805Z"
   },
   {
    "duration": 0,
    "start_time": "2024-02-06T05:03:29.806Z"
   },
   {
    "duration": 0,
    "start_time": "2024-02-06T05:03:29.807Z"
   },
   {
    "duration": 0,
    "start_time": "2024-02-06T05:03:29.808Z"
   },
   {
    "duration": 0,
    "start_time": "2024-02-06T05:03:29.873Z"
   },
   {
    "duration": 18811,
    "start_time": "2024-02-06T05:03:48.163Z"
   },
   {
    "duration": 41,
    "start_time": "2024-02-06T05:06:16.395Z"
   },
   {
    "duration": 4,
    "start_time": "2024-02-06T05:06:30.695Z"
   },
   {
    "duration": 3,
    "start_time": "2024-02-06T05:06:38.654Z"
   },
   {
    "duration": 3,
    "start_time": "2024-02-06T05:06:39.344Z"
   },
   {
    "duration": 10218,
    "start_time": "2024-02-06T05:06:41.755Z"
   },
   {
    "duration": 6,
    "start_time": "2024-02-06T05:06:51.976Z"
   },
   {
    "duration": 308,
    "start_time": "2024-02-06T05:06:51.984Z"
   },
   {
    "duration": 3,
    "start_time": "2024-02-06T05:06:52.295Z"
   },
   {
    "duration": 5090,
    "start_time": "2024-02-06T05:06:52.300Z"
   },
   {
    "duration": 2203,
    "start_time": "2024-02-06T05:06:57.392Z"
   },
   {
    "duration": 3,
    "start_time": "2024-02-06T05:06:59.597Z"
   },
   {
    "duration": 3175,
    "start_time": "2024-02-06T05:06:59.602Z"
   },
   {
    "duration": 2398,
    "start_time": "2024-02-06T05:07:07.377Z"
   },
   {
    "duration": 147,
    "start_time": "2024-02-06T05:07:32.104Z"
   },
   {
    "duration": 1521,
    "start_time": "2024-02-06T05:07:38.159Z"
   },
   {
    "duration": 1559,
    "start_time": "2024-02-06T05:07:41.255Z"
   },
   {
    "duration": 3548,
    "start_time": "2024-02-06T05:07:55.253Z"
   },
   {
    "duration": 4500,
    "start_time": "2024-02-06T05:07:58.872Z"
   },
   {
    "duration": 3559,
    "start_time": "2024-02-06T05:09:53.823Z"
   },
   {
    "duration": 113,
    "start_time": "2024-02-06T05:10:24.479Z"
   },
   {
    "duration": 16,
    "start_time": "2024-02-06T05:13:05.601Z"
   },
   {
    "duration": 926,
    "start_time": "2024-02-06T05:13:10.953Z"
   },
   {
    "duration": 1033,
    "start_time": "2024-02-06T05:16:04.167Z"
   },
   {
    "duration": 12,
    "start_time": "2024-02-06T05:19:53.234Z"
   },
   {
    "duration": 5,
    "start_time": "2024-02-06T05:20:16.337Z"
   },
   {
    "duration": 1280,
    "start_time": "2024-02-06T05:20:18.221Z"
   },
   {
    "duration": 331,
    "start_time": "2024-02-06T05:20:26.969Z"
   },
   {
    "duration": 2,
    "start_time": "2024-02-06T05:22:17.977Z"
   },
   {
    "duration": 5,
    "start_time": "2024-02-06T05:22:52.283Z"
   },
   {
    "duration": 15559,
    "start_time": "2024-02-06T12:18:45.820Z"
   },
   {
    "duration": 3,
    "start_time": "2024-02-06T12:19:01.381Z"
   },
   {
    "duration": 94,
    "start_time": "2024-02-06T12:19:01.385Z"
   },
   {
    "duration": 7405,
    "start_time": "2024-02-06T12:19:01.481Z"
   },
   {
    "duration": 58,
    "start_time": "2024-02-06T12:19:08.888Z"
   },
   {
    "duration": 3,
    "start_time": "2024-02-06T12:19:08.947Z"
   },
   {
    "duration": 20,
    "start_time": "2024-02-06T12:19:08.951Z"
   },
   {
    "duration": 3606,
    "start_time": "2024-02-06T12:19:08.973Z"
   },
   {
    "duration": 1893,
    "start_time": "2024-02-06T12:19:12.581Z"
   },
   {
    "duration": 3,
    "start_time": "2024-02-06T12:19:14.476Z"
   },
   {
    "duration": 2265,
    "start_time": "2024-02-06T12:19:14.480Z"
   },
   {
    "duration": 2011,
    "start_time": "2024-02-06T12:19:16.747Z"
   },
   {
    "duration": 2,
    "start_time": "2024-02-06T12:19:18.760Z"
   },
   {
    "duration": 2805,
    "start_time": "2024-02-06T12:19:18.764Z"
   },
   {
    "duration": 4098,
    "start_time": "2024-02-06T12:19:21.571Z"
   },
   {
    "duration": 898,
    "start_time": "2024-02-06T12:19:25.671Z"
   },
   {
    "duration": 1041,
    "start_time": "2024-02-06T12:28:30.915Z"
   },
   {
    "duration": 260,
    "start_time": "2024-02-06T12:28:42.489Z"
   },
   {
    "duration": 264,
    "start_time": "2024-02-06T12:28:59.285Z"
   },
   {
    "duration": 21,
    "start_time": "2024-02-06T13:18:52.864Z"
   },
   {
    "duration": 4,
    "start_time": "2024-02-06T13:18:53.313Z"
   },
   {
    "duration": 3,
    "start_time": "2024-02-06T13:18:53.838Z"
   },
   {
    "duration": 604,
    "start_time": "2024-02-06T13:18:54.191Z"
   },
   {
    "duration": 4,
    "start_time": "2024-02-06T13:18:54.796Z"
   },
   {
    "duration": 48,
    "start_time": "2024-02-06T13:18:54.801Z"
   },
   {
    "duration": 3,
    "start_time": "2024-02-06T13:18:54.892Z"
   },
   {
    "duration": 1232,
    "start_time": "2024-02-06T13:18:55.841Z"
   },
   {
    "duration": 979,
    "start_time": "2024-02-06T13:18:57.074Z"
   },
   {
    "duration": 3,
    "start_time": "2024-02-06T13:18:58.054Z"
   },
   {
    "duration": 1125,
    "start_time": "2024-02-06T13:18:58.554Z"
   },
   {
    "duration": 1094,
    "start_time": "2024-02-06T13:18:59.681Z"
   },
   {
    "duration": 2,
    "start_time": "2024-02-06T13:19:00.931Z"
   },
   {
    "duration": 2413,
    "start_time": "2024-02-06T13:20:01.965Z"
   },
   {
    "duration": 2840,
    "start_time": "2024-02-06T13:21:02.326Z"
   },
   {
    "duration": 16440,
    "start_time": "2024-02-07T03:34:26.933Z"
   },
   {
    "duration": 4,
    "start_time": "2024-02-07T03:34:43.376Z"
   },
   {
    "duration": 8,
    "start_time": "2024-02-07T03:34:43.382Z"
   },
   {
    "duration": 9206,
    "start_time": "2024-02-07T03:34:43.392Z"
   },
   {
    "duration": 5,
    "start_time": "2024-02-07T03:34:52.600Z"
   },
   {
    "duration": 11,
    "start_time": "2024-02-07T03:34:52.606Z"
   },
   {
    "duration": 4,
    "start_time": "2024-02-07T03:34:52.673Z"
   },
   {
    "duration": 4422,
    "start_time": "2024-02-07T03:34:52.679Z"
   },
   {
    "duration": 1785,
    "start_time": "2024-02-07T03:34:57.103Z"
   },
   {
    "duration": 3,
    "start_time": "2024-02-07T03:34:58.891Z"
   },
   {
    "duration": 2917,
    "start_time": "2024-02-07T03:34:58.895Z"
   },
   {
    "duration": 2384,
    "start_time": "2024-02-07T03:35:01.814Z"
   },
   {
    "duration": 3,
    "start_time": "2024-02-07T03:35:04.199Z"
   },
   {
    "duration": 4977,
    "start_time": "2024-02-07T03:35:04.203Z"
   },
   {
    "duration": 5098,
    "start_time": "2024-02-07T03:35:09.182Z"
   },
   {
    "duration": 1100,
    "start_time": "2024-02-07T03:35:14.281Z"
   },
   {
    "duration": 1791,
    "start_time": "2024-02-07T03:35:15.382Z"
   },
   {
    "duration": 617,
    "start_time": "2024-02-07T05:12:41.979Z"
   },
   {
    "duration": 16724,
    "start_time": "2024-02-07T05:25:26.154Z"
   },
   {
    "duration": 5,
    "start_time": "2024-02-07T05:25:42.880Z"
   },
   {
    "duration": 41,
    "start_time": "2024-02-07T05:25:42.887Z"
   },
   {
    "duration": 9247,
    "start_time": "2024-02-07T05:25:42.930Z"
   },
   {
    "duration": 4,
    "start_time": "2024-02-07T05:25:52.180Z"
   },
   {
    "duration": 5,
    "start_time": "2024-02-07T05:25:52.186Z"
   },
   {
    "duration": 17,
    "start_time": "2024-02-07T05:25:52.193Z"
   },
   {
    "duration": 4379,
    "start_time": "2024-02-07T05:25:52.211Z"
   },
   {
    "duration": 1909,
    "start_time": "2024-02-07T05:25:56.592Z"
   },
   {
    "duration": 4,
    "start_time": "2024-02-07T05:25:58.503Z"
   },
   {
    "duration": 2845,
    "start_time": "2024-02-07T05:25:58.572Z"
   },
   {
    "duration": 2367,
    "start_time": "2024-02-07T05:26:01.419Z"
   },
   {
    "duration": 504,
    "start_time": "2024-02-07T05:26:03.788Z"
   },
   {
    "duration": 3,
    "start_time": "2024-02-07T05:26:04.294Z"
   },
   {
    "duration": 3002,
    "start_time": "2024-02-07T05:26:04.298Z"
   },
   {
    "duration": 4373,
    "start_time": "2024-02-07T05:26:07.301Z"
   },
   {
    "duration": 1103,
    "start_time": "2024-02-07T05:26:11.675Z"
   },
   {
    "duration": 1321,
    "start_time": "2024-02-07T05:26:12.779Z"
   },
   {
    "duration": 5,
    "start_time": "2024-02-07T05:26:14.102Z"
   },
   {
    "duration": 2848,
    "start_time": "2024-02-07T05:27:43.373Z"
   },
   {
    "duration": 3460,
    "start_time": "2024-02-07T05:27:47.439Z"
   },
   {
    "duration": 702,
    "start_time": "2024-02-07T05:29:03.847Z"
   },
   {
    "duration": 1278,
    "start_time": "2024-02-07T05:31:53.297Z"
   },
   {
    "duration": 2,
    "start_time": "2024-02-07T05:32:50.042Z"
   },
   {
    "duration": 16058,
    "start_time": "2024-02-09T04:27:16.972Z"
   },
   {
    "duration": 5,
    "start_time": "2024-02-09T04:27:33.032Z"
   },
   {
    "duration": 18,
    "start_time": "2024-02-09T04:27:33.038Z"
   },
   {
    "duration": 8213,
    "start_time": "2024-02-09T04:27:33.114Z"
   },
   {
    "duration": 4,
    "start_time": "2024-02-09T04:27:41.328Z"
   },
   {
    "duration": 8,
    "start_time": "2024-02-09T04:27:41.334Z"
   },
   {
    "duration": 4134,
    "start_time": "2024-02-09T04:27:43.882Z"
   },
   {
    "duration": 1531,
    "start_time": "2024-02-09T04:27:48.018Z"
   },
   {
    "duration": 4,
    "start_time": "2024-02-09T04:27:49.552Z"
   },
   {
    "duration": 103,
    "start_time": "2024-02-09T04:27:51.946Z"
   },
   {
    "duration": 1764,
    "start_time": "2024-02-09T04:28:14.175Z"
   },
   {
    "duration": 839,
    "start_time": "2024-02-09T04:28:32.082Z"
   },
   {
    "duration": 768,
    "start_time": "2024-02-09T04:29:28.388Z"
   },
   {
    "duration": 2718,
    "start_time": "2024-02-09T04:29:32.107Z"
   },
   {
    "duration": 1101,
    "start_time": "2024-02-09T04:31:50.348Z"
   },
   {
    "duration": 6,
    "start_time": "2024-02-09T04:32:11.600Z"
   },
   {
    "duration": 1673,
    "start_time": "2024-02-09T04:33:29.464Z"
   },
   {
    "duration": 1849,
    "start_time": "2024-02-09T04:34:51.527Z"
   },
   {
    "duration": 16119,
    "start_time": "2024-02-09T04:37:22.438Z"
   },
   {
    "duration": 5,
    "start_time": "2024-02-09T04:37:38.614Z"
   },
   {
    "duration": 4,
    "start_time": "2024-02-09T04:37:38.620Z"
   },
   {
    "duration": 8296,
    "start_time": "2024-02-09T04:37:38.625Z"
   },
   {
    "duration": 4,
    "start_time": "2024-02-09T04:37:46.923Z"
   },
   {
    "duration": 3,
    "start_time": "2024-02-09T04:37:46.929Z"
   },
   {
    "duration": 4,
    "start_time": "2024-02-09T04:37:46.934Z"
   },
   {
    "duration": 2651,
    "start_time": "2024-02-09T04:40:13.486Z"
   },
   {
    "duration": 3601,
    "start_time": "2024-02-09T04:40:16.139Z"
   },
   {
    "duration": 1053,
    "start_time": "2024-02-09T04:42:48.487Z"
   },
   {
    "duration": 633,
    "start_time": "2024-02-09T04:44:00.996Z"
   },
   {
    "duration": 1538,
    "start_time": "2024-02-09T04:44:30.513Z"
   },
   {
    "duration": 880,
    "start_time": "2024-02-09T04:45:33.045Z"
   },
   {
    "duration": 117,
    "start_time": "2024-02-09T04:45:53.728Z"
   },
   {
    "duration": 15999,
    "start_time": "2024-02-09T04:49:04.137Z"
   },
   {
    "duration": 4,
    "start_time": "2024-02-09T04:49:20.138Z"
   },
   {
    "duration": 5,
    "start_time": "2024-02-09T04:49:20.143Z"
   },
   {
    "duration": 8707,
    "start_time": "2024-02-09T04:49:20.150Z"
   },
   {
    "duration": 4,
    "start_time": "2024-02-09T04:49:28.916Z"
   },
   {
    "duration": 12,
    "start_time": "2024-02-09T04:49:28.922Z"
   },
   {
    "duration": 5,
    "start_time": "2024-02-09T04:49:28.935Z"
   },
   {
    "duration": 4075,
    "start_time": "2024-02-09T04:49:28.941Z"
   },
   {
    "duration": 1619,
    "start_time": "2024-02-09T04:49:33.018Z"
   },
   {
    "duration": 3,
    "start_time": "2024-02-09T04:49:34.640Z"
   },
   {
    "duration": 2184,
    "start_time": "2024-02-09T04:49:34.645Z"
   },
   {
    "duration": 3599,
    "start_time": "2024-02-09T04:49:36.831Z"
   },
   {
    "duration": 1733,
    "start_time": "2024-02-09T04:49:40.432Z"
   },
   {
    "duration": 2856,
    "start_time": "2024-02-09T04:49:42.166Z"
   },
   {
    "duration": 1645,
    "start_time": "2024-02-09T04:50:55.030Z"
   },
   {
    "duration": 16122,
    "start_time": "2024-02-09T04:51:30.228Z"
   },
   {
    "duration": 4,
    "start_time": "2024-02-09T04:51:46.352Z"
   },
   {
    "duration": 5,
    "start_time": "2024-02-09T04:51:46.414Z"
   },
   {
    "duration": 8128,
    "start_time": "2024-02-09T04:51:46.421Z"
   },
   {
    "duration": 5,
    "start_time": "2024-02-09T04:51:54.551Z"
   },
   {
    "duration": 59,
    "start_time": "2024-02-09T04:51:54.557Z"
   },
   {
    "duration": 7,
    "start_time": "2024-02-09T04:51:54.618Z"
   },
   {
    "duration": 4305,
    "start_time": "2024-02-09T04:51:54.627Z"
   },
   {
    "duration": 1816,
    "start_time": "2024-02-09T04:51:58.933Z"
   },
   {
    "duration": 66,
    "start_time": "2024-02-09T04:52:00.751Z"
   },
   {
    "duration": 1706,
    "start_time": "2024-02-09T04:52:00.819Z"
   },
   {
    "duration": 3118,
    "start_time": "2024-02-09T04:52:02.527Z"
   },
   {
    "duration": 1529,
    "start_time": "2024-02-09T04:52:05.647Z"
   },
   {
    "duration": 2201,
    "start_time": "2024-02-09T04:52:07.177Z"
   },
   {
    "duration": 1825,
    "start_time": "2024-02-09T04:52:09.415Z"
   },
   {
    "duration": 6,
    "start_time": "2024-02-09T05:00:43.517Z"
   },
   {
    "duration": 3,
    "start_time": "2024-02-09T05:01:02.376Z"
   },
   {
    "duration": 15,
    "start_time": "2024-02-09T05:02:29.945Z"
   },
   {
    "duration": 4,
    "start_time": "2024-02-09T05:03:29.090Z"
   },
   {
    "duration": 5,
    "start_time": "2024-02-09T05:03:33.793Z"
   },
   {
    "duration": 13,
    "start_time": "2024-02-09T05:04:20.296Z"
   },
   {
    "duration": 3739,
    "start_time": "2024-02-09T05:05:43.377Z"
   },
   {
    "duration": 148,
    "start_time": "2024-02-09T05:06:00.080Z"
   },
   {
    "duration": 26,
    "start_time": "2024-02-09T05:08:11.353Z"
   },
   {
    "duration": 28,
    "start_time": "2024-02-09T05:08:32.745Z"
   },
   {
    "duration": 94,
    "start_time": "2024-02-09T05:08:44.279Z"
   },
   {
    "duration": 1993,
    "start_time": "2024-02-09T05:09:00.155Z"
   },
   {
    "duration": 164,
    "start_time": "2024-02-09T05:09:43.413Z"
   },
   {
    "duration": 4,
    "start_time": "2024-02-09T05:11:03.530Z"
   },
   {
    "duration": 4,
    "start_time": "2024-02-09T05:11:26.353Z"
   },
   {
    "duration": 153,
    "start_time": "2024-02-09T05:13:14.573Z"
   },
   {
    "duration": 4,
    "start_time": "2024-02-09T05:13:27.867Z"
   },
   {
    "duration": 5,
    "start_time": "2024-02-09T05:14:43.998Z"
   },
   {
    "duration": 13,
    "start_time": "2024-02-09T05:14:59.780Z"
   },
   {
    "duration": 1771,
    "start_time": "2024-02-09T05:18:08.465Z"
   },
   {
    "duration": 1748,
    "start_time": "2024-02-09T05:21:30.082Z"
   },
   {
    "duration": 1883,
    "start_time": "2024-02-09T05:21:43.188Z"
   },
   {
    "duration": 649,
    "start_time": "2024-02-09T05:22:37.367Z"
   },
   {
    "duration": 544,
    "start_time": "2024-02-09T05:22:53.502Z"
   },
   {
    "duration": 16265,
    "start_time": "2024-02-09T05:23:47.096Z"
   },
   {
    "duration": 5,
    "start_time": "2024-02-09T05:24:03.415Z"
   },
   {
    "duration": 8,
    "start_time": "2024-02-09T05:24:03.421Z"
   },
   {
    "duration": 8543,
    "start_time": "2024-02-09T05:24:03.431Z"
   },
   {
    "duration": 42,
    "start_time": "2024-02-09T05:24:11.976Z"
   },
   {
    "duration": 15,
    "start_time": "2024-02-09T05:24:12.019Z"
   },
   {
    "duration": 5,
    "start_time": "2024-02-09T05:24:12.035Z"
   },
   {
    "duration": 4004,
    "start_time": "2024-02-09T05:24:12.042Z"
   },
   {
    "duration": 1796,
    "start_time": "2024-02-09T05:24:16.047Z"
   },
   {
    "duration": 3,
    "start_time": "2024-02-09T05:24:17.845Z"
   },
   {
    "duration": 1993,
    "start_time": "2024-02-09T05:24:17.850Z"
   },
   {
    "duration": 3075,
    "start_time": "2024-02-09T05:24:19.914Z"
   },
   {
    "duration": 1580,
    "start_time": "2024-02-09T05:24:22.991Z"
   },
   {
    "duration": 2355,
    "start_time": "2024-02-09T05:24:24.575Z"
   },
   {
    "duration": 3,
    "start_time": "2024-02-09T05:24:26.932Z"
   },
   {
    "duration": 1599,
    "start_time": "2024-02-09T05:24:26.937Z"
   },
   {
    "duration": 2,
    "start_time": "2024-02-09T05:24:28.538Z"
   },
   {
    "duration": 3604,
    "start_time": "2024-02-09T05:24:28.542Z"
   },
   {
    "duration": 1810,
    "start_time": "2024-02-09T05:24:32.148Z"
   },
   {
    "duration": 0,
    "start_time": "2024-02-09T05:24:33.960Z"
   },
   {
    "duration": 0,
    "start_time": "2024-02-09T05:24:33.961Z"
   },
   {
    "duration": 0,
    "start_time": "2024-02-09T05:24:33.962Z"
   },
   {
    "duration": 1862,
    "start_time": "2024-02-09T05:25:48.776Z"
   },
   {
    "duration": 1805,
    "start_time": "2024-02-09T05:25:55.822Z"
   },
   {
    "duration": 890,
    "start_time": "2024-02-09T05:25:57.629Z"
   },
   {
    "duration": 5,
    "start_time": "2024-02-09T05:28:48.356Z"
   },
   {
    "duration": 4,
    "start_time": "2024-02-09T05:30:41.552Z"
   },
   {
    "duration": 15741,
    "start_time": "2024-02-09T05:33:18.094Z"
   },
   {
    "duration": 4,
    "start_time": "2024-02-09T05:33:33.837Z"
   },
   {
    "duration": 3,
    "start_time": "2024-02-09T05:33:33.843Z"
   },
   {
    "duration": 8572,
    "start_time": "2024-02-09T05:33:33.848Z"
   },
   {
    "duration": 4,
    "start_time": "2024-02-09T05:33:42.422Z"
   },
   {
    "duration": 7,
    "start_time": "2024-02-09T05:33:42.427Z"
   },
   {
    "duration": 5,
    "start_time": "2024-02-09T05:33:42.435Z"
   },
   {
    "duration": 4289,
    "start_time": "2024-02-09T05:33:42.441Z"
   },
   {
    "duration": 1619,
    "start_time": "2024-02-09T05:33:46.731Z"
   },
   {
    "duration": 64,
    "start_time": "2024-02-09T05:33:48.352Z"
   },
   {
    "duration": 1658,
    "start_time": "2024-02-09T05:33:48.418Z"
   },
   {
    "duration": 2914,
    "start_time": "2024-02-09T05:33:50.114Z"
   },
   {
    "duration": 1817,
    "start_time": "2024-02-09T05:33:53.030Z"
   },
   {
    "duration": 2682,
    "start_time": "2024-02-09T05:33:54.850Z"
   },
   {
    "duration": 2,
    "start_time": "2024-02-09T05:33:57.534Z"
   },
   {
    "duration": 1696,
    "start_time": "2024-02-09T05:33:57.537Z"
   },
   {
    "duration": 3,
    "start_time": "2024-02-09T05:33:59.235Z"
   },
   {
    "duration": 3312,
    "start_time": "2024-02-09T05:33:59.240Z"
   },
   {
    "duration": 2180,
    "start_time": "2024-02-09T05:34:02.553Z"
   },
   {
    "duration": 1808,
    "start_time": "2024-02-09T05:34:04.735Z"
   },
   {
    "duration": 784,
    "start_time": "2024-02-09T05:34:06.544Z"
   },
   {
    "duration": 3,
    "start_time": "2024-02-09T05:34:07.330Z"
   },
   {
    "duration": 5,
    "start_time": "2024-02-09T05:34:07.334Z"
   },
   {
    "duration": 17288,
    "start_time": "2024-02-10T05:58:35.746Z"
   },
   {
    "duration": 4,
    "start_time": "2024-02-10T05:58:53.066Z"
   },
   {
    "duration": 12,
    "start_time": "2024-02-10T05:58:53.071Z"
   },
   {
    "duration": 7917,
    "start_time": "2024-02-10T05:58:53.084Z"
   },
   {
    "duration": 63,
    "start_time": "2024-02-10T05:59:01.003Z"
   },
   {
    "duration": 3,
    "start_time": "2024-02-10T05:59:01.068Z"
   },
   {
    "duration": 37,
    "start_time": "2024-02-10T05:59:01.073Z"
   },
   {
    "duration": 3980,
    "start_time": "2024-02-10T05:59:01.112Z"
   },
   {
    "duration": 1607,
    "start_time": "2024-02-10T05:59:05.093Z"
   },
   {
    "duration": 3,
    "start_time": "2024-02-10T05:59:06.703Z"
   },
   {
    "duration": 1607,
    "start_time": "2024-02-10T05:59:06.765Z"
   },
   {
    "duration": 3107,
    "start_time": "2024-02-10T05:59:08.374Z"
   },
   {
    "duration": 1706,
    "start_time": "2024-02-10T05:59:11.483Z"
   },
   {
    "duration": 2292,
    "start_time": "2024-02-10T05:59:13.192Z"
   },
   {
    "duration": 2,
    "start_time": "2024-02-10T05:59:15.486Z"
   },
   {
    "duration": 1497,
    "start_time": "2024-02-10T05:59:15.490Z"
   },
   {
    "duration": 3,
    "start_time": "2024-02-10T05:59:16.988Z"
   },
   {
    "duration": 3484,
    "start_time": "2024-02-10T05:59:16.992Z"
   },
   {
    "duration": 2226,
    "start_time": "2024-02-10T05:59:20.478Z"
   },
   {
    "duration": 1878,
    "start_time": "2024-02-10T05:59:22.706Z"
   },
   {
    "duration": 904,
    "start_time": "2024-02-10T05:59:24.585Z"
   },
   {
    "duration": 76,
    "start_time": "2024-02-10T05:59:25.491Z"
   },
   {
    "duration": 3,
    "start_time": "2024-02-10T05:59:25.568Z"
   }
  ],
  "colab": {
   "name": "PySparkSprint.ipynb",
   "provenance": []
  },
  "kernelspec": {
   "display_name": "Python 3",
   "language": "python",
   "name": "python3"
  },
  "language_info": {
   "codemirror_mode": {
    "name": "ipython",
    "version": 3
   },
   "file_extension": ".py",
   "mimetype": "text/x-python",
   "name": "python",
   "nbconvert_exporter": "python",
   "pygments_lexer": "ipython3",
   "version": "3.7.6"
  },
  "toc": {
   "base_numbering": "0",
   "nav_menu": {},
   "number_sections": true,
   "sideBar": true,
   "skip_h1_title": true,
   "title_cell": "Table of Contents",
   "title_sidebar": "Contents",
   "toc_cell": false,
   "toc_position": {
    "height": "calc(100% - 180px)",
    "left": "10px",
    "top": "150px",
    "width": "165px"
   },
   "toc_section_display": true,
   "toc_window_display": true
  }
 },
 "nbformat": 4,
 "nbformat_minor": 5
}
